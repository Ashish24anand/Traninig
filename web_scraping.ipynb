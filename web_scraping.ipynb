{
  "nbformat": 4,
  "nbformat_minor": 0,
  "metadata": {
    "colab": {
      "name": "web_scraping.ipynb",
      "provenance": [],
      "toc_visible": true
    },
    "kernelspec": {
      "name": "python3",
      "display_name": "Python 3"
    },
    "language_info": {
      "name": "python"
    }
  },
  "cells": [
    {
      "cell_type": "code",
      "metadata": {
        "id": "TlOpFD-yONUM"
      },
      "source": [
        "from bs4 import BeautifulSoup\n",
        "import requests\n",
        "import pandas as pd\n"
      ],
      "execution_count": 1,
      "outputs": []
    },
    {
      "cell_type": "markdown",
      "metadata": {
        "id": "fiOGc_XgQgfO"
      },
      "source": [
        "# Write a python program to display all the header tags from ‘en.wikipedia.org/wiki/Main_Page’"
      ]
    },
    {
      "cell_type": "code",
      "metadata": {
        "id": "mBFc5qCqQZ6W"
      },
      "source": [
        "page=requests.get('http://en.wikipedia.org/wiki/Main_Page')\n"
      ],
      "execution_count": 25,
      "outputs": []
    },
    {
      "cell_type": "code",
      "metadata": {
        "id": "CPTUhW671FaT"
      },
      "source": [
        "soup=BeautifulSoup(page.content)\n"
      ],
      "execution_count": 26,
      "outputs": []
    },
    {
      "cell_type": "code",
      "metadata": {
        "id": "OZNCeyzTTxmO"
      },
      "source": [
        "all_header=soup.find_all(['h1', 'h2','h3','h4','h5','h6'])"
      ],
      "execution_count": 27,
      "outputs": []
    },
    {
      "cell_type": "code",
      "metadata": {
        "id": "tArWsmPzYqpB",
        "colab": {
          "base_uri": "https://localhost:8080/"
        },
        "outputId": "ee53ccca-7bb6-4b12-bc8e-d8278b725b8d"
      },
      "source": [
        "header=[]\n",
        "for i in all_header:\n",
        "  header.append(i.text.replace('\\n',' '))\n",
        "\n",
        "header"
      ],
      "execution_count": 28,
      "outputs": [
        {
          "output_type": "execute_result",
          "data": {
            "text/plain": [
              "['Main Page',\n",
              " \"From today's featured article\",\n",
              " 'Did you know\\xa0...',\n",
              " 'In the news',\n",
              " 'On this day',\n",
              " \"Today's featured picture\",\n",
              " 'Other areas of Wikipedia',\n",
              " \"Wikipedia's sister projects\",\n",
              " 'Wikipedia languages',\n",
              " 'Navigation menu',\n",
              " ' Personal tools ',\n",
              " ' Namespaces ',\n",
              " ' Variants ',\n",
              " ' Views ',\n",
              " ' More ',\n",
              " ' Search ',\n",
              " ' Navigation ',\n",
              " ' Contribute ',\n",
              " ' Tools ',\n",
              " ' Print/export ',\n",
              " ' In other projects ',\n",
              " ' Languages ']"
            ]
          },
          "metadata": {
            "tags": []
          },
          "execution_count": 28
        }
      ]
    },
    {
      "cell_type": "markdown",
      "metadata": {
        "id": "oFlkeIB-gt9I"
      },
      "source": [
        "# Write a python program to display IMDB’s Top rated 100 movies’ data (i.e. Name, IMDB rating, Year of release) and save it in form of a CSV file. "
      ]
    },
    {
      "cell_type": "code",
      "metadata": {
        "colab": {
          "base_uri": "https://localhost:8080/"
        },
        "id": "xxMG3q0scZl8",
        "outputId": "5cfee8ef-6f83-40d5-e909-e3ed2e23d5a0"
      },
      "source": [
        "page=requests.get('https://www.imdb.com/chart/top')\n",
        "page"
      ],
      "execution_count": 15,
      "outputs": [
        {
          "output_type": "execute_result",
          "data": {
            "text/plain": [
              "<Response [200]>"
            ]
          },
          "metadata": {
            "tags": []
          },
          "execution_count": 15
        }
      ]
    },
    {
      "cell_type": "code",
      "metadata": {
        "id": "vOFqoPcJ0-pR"
      },
      "source": [
        "soup=BeautifulSoup(page.content)\n"
      ],
      "execution_count": 16,
      "outputs": []
    },
    {
      "cell_type": "code",
      "metadata": {
        "id": "ZQmSwQZWuLg3"
      },
      "source": [
        "top_movies=soup.find_all('td', class_='titleColumn')"
      ],
      "execution_count": 17,
      "outputs": []
    },
    {
      "cell_type": "code",
      "metadata": {
        "id": "ChsRVueE6HDB"
      },
      "source": [
        "top_rating=soup.find_all('td', class_='ratingColumn imdbRating')"
      ],
      "execution_count": 18,
      "outputs": []
    },
    {
      "cell_type": "code",
      "metadata": {
        "id": "53gQUqbvvZ1T"
      },
      "source": [
        "top_hun_mov=[]\n",
        "top_hun_year=[]\n",
        "j=0\n",
        "for i in top_movies:\n",
        "  top_hun_mov.append(i.text[len(str())+15:-7].replace('\\n',''))\n",
        "  top_hun_year.append(i.text[len(str())-6:-2].replace('\\n',''))\n",
        "  j=j+1\n",
        "  if j >= 100:\n",
        "    break\n"
      ],
      "execution_count": 19,
      "outputs": []
    },
    {
      "cell_type": "code",
      "metadata": {
        "id": "1QZqmy9P6Vn8"
      },
      "source": [
        "top_hun_rat=[]\n",
        "j=0\n",
        "for i in top_rating:\n",
        "  top_hun_rat.append(i.text.replace('\\n',''))\n",
        "  j=j+1\n",
        "  if j >= 100:\n",
        "    break"
      ],
      "execution_count": 20,
      "outputs": []
    },
    {
      "cell_type": "code",
      "metadata": {
        "id": "tEPR_8CBx-EM"
      },
      "source": [
        "\n",
        "top_imdb=pd.DataFrame([top_hun_mov,top_hun_rat,top_hun_year]).T\n",
        "top_imdb.columns=['Name','IMDB rating','Year of release']"
      ],
      "execution_count": 21,
      "outputs": []
    },
    {
      "cell_type": "code",
      "metadata": {
        "id": "tWATLdOo0ZPS"
      },
      "source": [
        "top_imdb.to_csv('top_hun_imdb.csv')"
      ],
      "execution_count": 22,
      "outputs": []
    },
    {
      "cell_type": "code",
      "metadata": {
        "colab": {
          "base_uri": "https://localhost:8080/",
          "height": 419
        },
        "id": "gdtaxFFbxz_3",
        "outputId": "c3d1b5e2-0a02-4116-ff16-000695609dd7"
      },
      "source": [
        "top_imdb"
      ],
      "execution_count": 23,
      "outputs": [
        {
          "output_type": "execute_result",
          "data": {
            "text/html": [
              "<div>\n",
              "<style scoped>\n",
              "    .dataframe tbody tr th:only-of-type {\n",
              "        vertical-align: middle;\n",
              "    }\n",
              "\n",
              "    .dataframe tbody tr th {\n",
              "        vertical-align: top;\n",
              "    }\n",
              "\n",
              "    .dataframe thead th {\n",
              "        text-align: right;\n",
              "    }\n",
              "</style>\n",
              "<table border=\"1\" class=\"dataframe\">\n",
              "  <thead>\n",
              "    <tr style=\"text-align: right;\">\n",
              "      <th></th>\n",
              "      <th>Name</th>\n",
              "      <th>IMDB rating</th>\n",
              "      <th>Year of release</th>\n",
              "    </tr>\n",
              "  </thead>\n",
              "  <tbody>\n",
              "    <tr>\n",
              "      <th>0</th>\n",
              "      <td>The Shawshank Redemption</td>\n",
              "      <td>9.2</td>\n",
              "      <td>1994</td>\n",
              "    </tr>\n",
              "    <tr>\n",
              "      <th>1</th>\n",
              "      <td>The Godfather</td>\n",
              "      <td>9.1</td>\n",
              "      <td>1972</td>\n",
              "    </tr>\n",
              "    <tr>\n",
              "      <th>2</th>\n",
              "      <td>The Godfather: Part II</td>\n",
              "      <td>9.0</td>\n",
              "      <td>1974</td>\n",
              "    </tr>\n",
              "    <tr>\n",
              "      <th>3</th>\n",
              "      <td>The Dark Knight</td>\n",
              "      <td>9.0</td>\n",
              "      <td>2008</td>\n",
              "    </tr>\n",
              "    <tr>\n",
              "      <th>4</th>\n",
              "      <td>12 Angry Men</td>\n",
              "      <td>8.9</td>\n",
              "      <td>1957</td>\n",
              "    </tr>\n",
              "    <tr>\n",
              "      <th>...</th>\n",
              "      <td>...</td>\n",
              "      <td>...</td>\n",
              "      <td>...</td>\n",
              "    </tr>\n",
              "    <tr>\n",
              "      <th>95</th>\n",
              "      <td>Citizen Kane</td>\n",
              "      <td>8.3</td>\n",
              "      <td>1941</td>\n",
              "    </tr>\n",
              "    <tr>\n",
              "      <th>96</th>\n",
              "      <td>Dangal</td>\n",
              "      <td>8.3</td>\n",
              "      <td>2016</td>\n",
              "    </tr>\n",
              "    <tr>\n",
              "      <th>97</th>\n",
              "      <td>Come and See</td>\n",
              "      <td>8.2</td>\n",
              "      <td>1985</td>\n",
              "    </tr>\n",
              "    <tr>\n",
              "      <th>98</th>\n",
              "      <td>The Kid</td>\n",
              "      <td>8.2</td>\n",
              "      <td>1921</td>\n",
              "    </tr>\n",
              "    <tr>\n",
              "      <th>99</th>\n",
              "      <td>Singin' in the Rain</td>\n",
              "      <td>8.2</td>\n",
              "      <td>1952</td>\n",
              "    </tr>\n",
              "  </tbody>\n",
              "</table>\n",
              "<p>100 rows × 3 columns</p>\n",
              "</div>"
            ],
            "text/plain": [
              "                         Name IMDB rating Year of release\n",
              "0    The Shawshank Redemption         9.2            1994\n",
              "1               The Godfather         9.1            1972\n",
              "2      The Godfather: Part II         9.0            1974\n",
              "3             The Dark Knight         9.0            2008\n",
              "4                12 Angry Men         8.9            1957\n",
              "..                        ...         ...             ...\n",
              "95               Citizen Kane         8.3            1941\n",
              "96                     Dangal         8.3            2016\n",
              "97               Come and See         8.2            1985\n",
              "98                    The Kid         8.2            1921\n",
              "99        Singin' in the Rain         8.2            1952\n",
              "\n",
              "[100 rows x 3 columns]"
            ]
          },
          "metadata": {
            "tags": []
          },
          "execution_count": 23
        }
      ]
    },
    {
      "cell_type": "markdown",
      "metadata": {
        "id": "H4rIjtr8ypC3"
      },
      "source": [
        "# Write a python program to display IMDB’s Top rated 100 Indian movies’ data (i.e. Name, IMDB rating, Year of release) and save it in form of a CSV file."
      ]
    },
    {
      "cell_type": "code",
      "metadata": {
        "colab": {
          "base_uri": "https://localhost:8080/"
        },
        "id": "YOnh_nPvyemJ",
        "outputId": "484bb9a3-5e86-463e-be2b-af457284457f"
      },
      "source": [
        "page=requests.get('https://www.imdb.com/india/top-rated-indian-movies/')\n",
        "page"
      ],
      "execution_count": 6,
      "outputs": [
        {
          "output_type": "execute_result",
          "data": {
            "text/plain": [
              "<Response [200]>"
            ]
          },
          "metadata": {
            "tags": []
          },
          "execution_count": 6
        }
      ]
    },
    {
      "cell_type": "code",
      "metadata": {
        "id": "8g2snLVFyemq"
      },
      "source": [
        "soup=BeautifulSoup(page.content)\n"
      ],
      "execution_count": 7,
      "outputs": []
    },
    {
      "cell_type": "code",
      "metadata": {
        "id": "C5cVar2Zyems"
      },
      "source": [
        "top_indian_movies=soup.find_all('td', class_='titleColumn')"
      ],
      "execution_count": 8,
      "outputs": []
    },
    {
      "cell_type": "code",
      "metadata": {
        "id": "4R6RjHDbyemt"
      },
      "source": [
        "top_indian_rating=soup.find_all('td', class_='ratingColumn imdbRating')"
      ],
      "execution_count": 9,
      "outputs": []
    },
    {
      "cell_type": "code",
      "metadata": {
        "id": "u9bYN536yemt"
      },
      "source": [
        "top_hun_mov=[]\n",
        "top_hun_year=[]\n",
        "j=0\n",
        "for i in top_indian_movies:\n",
        "  top_hun_mov.append(i.text[len(str())+15:-7].replace('\\n',''))\n",
        "  top_hun_year.append(i.text[len(str())-6:-2].replace('\\n',''))\n",
        "  j=j+1\n",
        "  if j >= 100:\n",
        "    break\n"
      ],
      "execution_count": 10,
      "outputs": []
    },
    {
      "cell_type": "code",
      "metadata": {
        "id": "UhNeVH0ayemu"
      },
      "source": [
        "top_hun_rat=[]\n",
        "j=0\n",
        "for i in top_indian_rating:\n",
        "  top_hun_rat.append(i.text.replace('\\n',''))\n",
        "  j=j+1\n",
        "  if j >= 100:\n",
        "    break"
      ],
      "execution_count": 11,
      "outputs": []
    },
    {
      "cell_type": "code",
      "metadata": {
        "id": "RQhEfIUZyemv"
      },
      "source": [
        "\n",
        "top_indian_imdb=pd.DataFrame([top_hun_mov,top_hun_rat,top_hun_year]).T\n",
        "top_indian_imdb.columns=['Name','IMDB rating','Year of release']"
      ],
      "execution_count": 12,
      "outputs": []
    },
    {
      "cell_type": "code",
      "metadata": {
        "id": "ySmrnrkPyemw"
      },
      "source": [
        "top_indian_imdb.to_csv('top_ind_imdb.csv')"
      ],
      "execution_count": 13,
      "outputs": []
    },
    {
      "cell_type": "code",
      "metadata": {
        "colab": {
          "base_uri": "https://localhost:8080/",
          "height": 419
        },
        "id": "9gyCohuUxtn4",
        "outputId": "4e2ccc67-a00e-4291-b44d-515a7410caa2"
      },
      "source": [
        "top_indian_imdb"
      ],
      "execution_count": 14,
      "outputs": [
        {
          "output_type": "execute_result",
          "data": {
            "text/html": [
              "<div>\n",
              "<style scoped>\n",
              "    .dataframe tbody tr th:only-of-type {\n",
              "        vertical-align: middle;\n",
              "    }\n",
              "\n",
              "    .dataframe tbody tr th {\n",
              "        vertical-align: top;\n",
              "    }\n",
              "\n",
              "    .dataframe thead th {\n",
              "        text-align: right;\n",
              "    }\n",
              "</style>\n",
              "<table border=\"1\" class=\"dataframe\">\n",
              "  <thead>\n",
              "    <tr style=\"text-align: right;\">\n",
              "      <th></th>\n",
              "      <th>Name</th>\n",
              "      <th>IMDB rating</th>\n",
              "      <th>Year of release</th>\n",
              "    </tr>\n",
              "  </thead>\n",
              "  <tbody>\n",
              "    <tr>\n",
              "      <th>0</th>\n",
              "      <td>Pather Panchali</td>\n",
              "      <td>8.5</td>\n",
              "      <td>1955</td>\n",
              "    </tr>\n",
              "    <tr>\n",
              "      <th>1</th>\n",
              "      <td>Hanky Panky</td>\n",
              "      <td>8.5</td>\n",
              "      <td>1979</td>\n",
              "    </tr>\n",
              "    <tr>\n",
              "      <th>2</th>\n",
              "      <td>Nayakan</td>\n",
              "      <td>8.5</td>\n",
              "      <td>1987</td>\n",
              "    </tr>\n",
              "    <tr>\n",
              "      <th>3</th>\n",
              "      <td>Anbe Sivam</td>\n",
              "      <td>8.5</td>\n",
              "      <td>2003</td>\n",
              "    </tr>\n",
              "    <tr>\n",
              "      <th>4</th>\n",
              "      <td>The World of Apu</td>\n",
              "      <td>8.5</td>\n",
              "      <td>1959</td>\n",
              "    </tr>\n",
              "    <tr>\n",
              "      <th>...</th>\n",
              "      <td>...</td>\n",
              "      <td>...</td>\n",
              "      <td>...</td>\n",
              "    </tr>\n",
              "    <tr>\n",
              "      <th>95</th>\n",
              "      <td>The Legend of Bhagat Singh</td>\n",
              "      <td>8.0</td>\n",
              "      <td>2002</td>\n",
              "    </tr>\n",
              "    <tr>\n",
              "      <th>96</th>\n",
              "      <td>Barfi!</td>\n",
              "      <td>8.0</td>\n",
              "      <td>2012</td>\n",
              "    </tr>\n",
              "    <tr>\n",
              "      <th>97</th>\n",
              "      <td>Pink</td>\n",
              "      <td>8.0</td>\n",
              "      <td>2016</td>\n",
              "    </tr>\n",
              "    <tr>\n",
              "      <th>98</th>\n",
              "      <td>Bommarillu</td>\n",
              "      <td>8.0</td>\n",
              "      <td>2006</td>\n",
              "    </tr>\n",
              "    <tr>\n",
              "      <th>99</th>\n",
              "      <td>Bombay</td>\n",
              "      <td>8.0</td>\n",
              "      <td>1995</td>\n",
              "    </tr>\n",
              "  </tbody>\n",
              "</table>\n",
              "<p>100 rows × 3 columns</p>\n",
              "</div>"
            ],
            "text/plain": [
              "                            Name IMDB rating Year of release\n",
              "0                Pather Panchali         8.5            1955\n",
              "1                    Hanky Panky         8.5            1979\n",
              "2                        Nayakan         8.5            1987\n",
              "3                     Anbe Sivam         8.5            2003\n",
              "4               The World of Apu         8.5            1959\n",
              "..                           ...         ...             ...\n",
              "95    The Legend of Bhagat Singh         8.0            2002\n",
              "96                        Barfi!         8.0            2012\n",
              "97                          Pink         8.0            2016\n",
              "98                    Bommarillu         8.0            2006\n",
              "99                        Bombay         8.0            1995\n",
              "\n",
              "[100 rows x 3 columns]"
            ]
          },
          "metadata": {
            "tags": []
          },
          "execution_count": 14
        }
      ]
    },
    {
      "cell_type": "markdown",
      "metadata": {
        "id": "pYs56wvBAake"
      },
      "source": [
        "# Write a python program to scrap book name, author name, genre and book review of any 5 books from ‘www.bookpage.com’"
      ]
    },
    {
      "cell_type": "code",
      "metadata": {
        "colab": {
          "base_uri": "https://localhost:8080/"
        },
        "id": "5HQD9XV15uGm",
        "outputId": "9433a6e5-afe2-4e43-86ec-2515d6a4f205"
      },
      "source": [
        "page=requests.get('https://bookpage.com/reviews')\n",
        "page"
      ],
      "execution_count": null,
      "outputs": [
        {
          "output_type": "execute_result",
          "data": {
            "text/plain": [
              "<Response [200]>"
            ]
          },
          "metadata": {
            "tags": []
          },
          "execution_count": 68
        }
      ]
    },
    {
      "cell_type": "code",
      "metadata": {
        "id": "uThejI8HCVNz"
      },
      "source": [
        "soup1=BeautifulSoup(page.content)\n"
      ],
      "execution_count": null,
      "outputs": []
    },
    {
      "cell_type": "code",
      "metadata": {
        "id": "_JXbEcSvCdxo"
      },
      "source": [
        "book=soup1.find_all('h4', class_='italic')\n",
        "\n",
        "auther=soup1.find_all('p', class_='sans bold')\n",
        "\n",
        "genre=soup1.find_all('p', class_='genre-links hidden-phone')\n",
        "\n",
        "review=soup1.find_all('p')"
      ],
      "execution_count": null,
      "outputs": []
    },
    {
      "cell_type": "code",
      "metadata": {
        "id": "EmoK-xjWCzFQ"
      },
      "source": [
        "five_book=[]\n",
        "j=0\n",
        "for i in book:\n",
        "  #five_book.append(i.text[len(str())+15:-7].replace('\\n',''))\n",
        "  five_book.append(i.text.replace('\\n',''))\n",
        "  j=j+1\n",
        "  if j >= 5:\n",
        "    break\n",
        "\n",
        "five_auther=[]\n",
        "j=0\n",
        "for i in auther:\n",
        "  five_auther.append(i.text.replace('\\n',''))\n",
        "  j=j+1\n",
        "  if j >= 5:\n",
        "    break\n",
        "\n",
        "five_genre=[]\n",
        "j=0\n",
        "for i in genre:\n",
        "  five_genre.append(i.text.replace('\\n',''))\n",
        "  j=j+1\n",
        "  if j >= 5:\n",
        "    break\n",
        "\n",
        "five_review=[]\n",
        "j=0\n",
        "for i in review:\n",
        "  if (i.text.replace('\\n','') != ''):\n",
        "    five_review.append(i.text.replace('\\n',''))\n",
        "  j=j+1\n",
        "  if j >= 20:\n",
        "    break\n",
        "\n",
        "five_review1=[]\n",
        "j=0\n",
        "for i in five_review:\n",
        "  if j%3==0 and j!=0:\n",
        "    five_review1.append(i)\n",
        "  j=j+1\n",
        "\n",
        "\n"
      ],
      "execution_count": null,
      "outputs": []
    },
    {
      "cell_type": "code",
      "metadata": {
        "colab": {
          "base_uri": "https://localhost:8080/",
          "height": 204
        },
        "id": "nuFPgfqm_8gV",
        "outputId": "24b16a40-eb8a-4eb0-d67b-9a0cbe715430"
      },
      "source": [
        "pd.DataFrame([five_book,five_auther,five_genre,five_review1]).T"
      ],
      "execution_count": null,
      "outputs": [
        {
          "output_type": "execute_result",
          "data": {
            "text/html": [
              "<div>\n",
              "<style scoped>\n",
              "    .dataframe tbody tr th:only-of-type {\n",
              "        vertical-align: middle;\n",
              "    }\n",
              "\n",
              "    .dataframe tbody tr th {\n",
              "        vertical-align: top;\n",
              "    }\n",
              "\n",
              "    .dataframe thead th {\n",
              "        text-align: right;\n",
              "    }\n",
              "</style>\n",
              "<table border=\"1\" class=\"dataframe\">\n",
              "  <thead>\n",
              "    <tr style=\"text-align: right;\">\n",
              "      <th></th>\n",
              "      <th>0</th>\n",
              "      <th>1</th>\n",
              "      <th>2</th>\n",
              "      <th>3</th>\n",
              "    </tr>\n",
              "  </thead>\n",
              "  <tbody>\n",
              "    <tr>\n",
              "      <th>0</th>\n",
              "      <td>Before I Saw You</td>\n",
              "      <td>Emily Houghton</td>\n",
              "      <td>Romance / Contemporary Romance</td>\n",
              "      <td>Emily Houghton’s Before I Saw You is a tender,...</td>\n",
              "    </tr>\n",
              "    <tr>\n",
              "      <th>1</th>\n",
              "      <td>Many Shapes of Clay</td>\n",
              "      <td>Kenesha Sneed</td>\n",
              "      <td>Children's / Children's Picture Book</td>\n",
              "      <td>Author-illustrator Kenesha Sneed is a Los Ange...</td>\n",
              "    </tr>\n",
              "    <tr>\n",
              "      <th>2</th>\n",
              "      <td>The Girl Who Died</td>\n",
              "      <td>Ragnar Jónasson</td>\n",
              "      <td>Mystery &amp; Suspense / Mystery</td>\n",
              "      <td>The advertisement is simple and honest: “Teach...</td>\n",
              "    </tr>\n",
              "    <tr>\n",
              "      <th>3</th>\n",
              "      <td>★ Sorrowland</td>\n",
              "      <td>Rivers Solomon</td>\n",
              "      <td>Fiction / Gothic Fiction</td>\n",
              "      <td>Full of horror and love, Sorrowland is so perf...</td>\n",
              "    </tr>\n",
              "    <tr>\n",
              "      <th>4</th>\n",
              "      <td>★ The Secret to Superhuman Strength</td>\n",
              "      <td>Alison Bechdel</td>\n",
              "      <td>Nonfiction / Memoir / Graphic Memoirs</td>\n",
              "      <td>Alison Bechdel’s unique combination of persona...</td>\n",
              "    </tr>\n",
              "  </tbody>\n",
              "</table>\n",
              "</div>"
            ],
            "text/plain": [
              "                                      0  ...                                                  3\n",
              "0                      Before I Saw You  ...  Emily Houghton’s Before I Saw You is a tender,...\n",
              "1                   Many Shapes of Clay  ...  Author-illustrator Kenesha Sneed is a Los Ange...\n",
              "2                     The Girl Who Died  ...  The advertisement is simple and honest: “Teach...\n",
              "3                          ★ Sorrowland  ...  Full of horror and love, Sorrowland is so perf...\n",
              "4   ★ The Secret to Superhuman Strength  ...  Alison Bechdel’s unique combination of persona...\n",
              "\n",
              "[5 rows x 4 columns]"
            ]
          },
          "metadata": {
            "tags": []
          },
          "execution_count": 72
        }
      ]
    },
    {
      "cell_type": "code",
      "metadata": {
        "id": "HQwfR1Yixdsq"
      },
      "source": [
        ""
      ],
      "execution_count": null,
      "outputs": []
    },
    {
      "cell_type": "markdown",
      "metadata": {
        "id": "OXcKCVW0Aiyb"
      },
      "source": [
        "# Write a python program to scrape cricket rankings from ‘www.icc-cricket.com’. You have to scrape: "
      ]
    },
    {
      "cell_type": "markdown",
      "metadata": {
        "id": "9zMkEEazAuLx"
      },
      "source": [
        "##i) Top 10 ODI teams in men’s cricket along with the records for matches, points and rating. "
      ]
    },
    {
      "cell_type": "code",
      "metadata": {
        "colab": {
          "base_uri": "https://localhost:8080/"
        },
        "id": "5jwwyjXVAtPv",
        "outputId": "be318365-3dc8-4f17-cd1f-395b8117bb1a"
      },
      "source": [
        "page=requests.get('https://www.icc-cricket.com/rankings/mens/team-rankings/odi')\n",
        "page"
      ],
      "execution_count": null,
      "outputs": [
        {
          "output_type": "execute_result",
          "data": {
            "text/plain": [
              "<Response [200]>"
            ]
          },
          "metadata": {
            "tags": []
          },
          "execution_count": 179
        }
      ]
    },
    {
      "cell_type": "code",
      "metadata": {
        "id": "MYKQc0_LAiae"
      },
      "source": [
        "soup2=BeautifulSoup(page.content)"
      ],
      "execution_count": null,
      "outputs": []
    },
    {
      "cell_type": "code",
      "metadata": {
        "id": "u1wbu5Xa4T3i"
      },
      "source": [
        "team=soup2.find_all('span',class_='u-hide-phablet')\n",
        "match=soup2.find_all('td',class_='rankings-block__banner--matches')\n",
        "point=soup2.find_all('td',class_='rankings-block__banner--points')\n",
        "rating=soup2.find_all('td',class_='rankings-block__banner--rating u-text-right')"
      ],
      "execution_count": null,
      "outputs": []
    },
    {
      "cell_type": "code",
      "metadata": {
        "id": "JISEtVvz8wQP"
      },
      "source": [
        "def scrap1(team,n,k):\n",
        "  ten_team=[]\n",
        "  j=0\n",
        "  for i in team:\n",
        "    #five_book.append(i.text[len(str())+15:-7].replace('\\n',''))\n",
        "    ten_team.append(i.text.replace('\\n',''))\n",
        "    j=j+1\n",
        "    if j >= n:\n",
        "      break\n",
        "  \n",
        "  return(ten_team[k:n])"
      ],
      "execution_count": null,
      "outputs": []
    },
    {
      "cell_type": "code",
      "metadata": {
        "id": "xDunEWgv88Vw"
      },
      "source": [
        "top=pd.DataFrame([scrap1(team,1,0),scrap1(match,1,0),scrap1(point,1,0),scrap1(rating,1,0)]).T"
      ],
      "execution_count": null,
      "outputs": []
    },
    {
      "cell_type": "code",
      "metadata": {
        "id": "CK-nRLd_K4FW"
      },
      "source": [
        "team=soup2.find_all('span',class_='u-hide-phablet')\n",
        "match=soup2.find_all('td',class_='table-body__cell u-center-text')\n",
        "point=soup2.find_all('td',class_='table-body__cell u-center-text')\n",
        "rating=soup2.find_all('td',class_='table-body__cell u-text-right rating')"
      ],
      "execution_count": null,
      "outputs": []
    },
    {
      "cell_type": "code",
      "metadata": {
        "id": "3nCHcqEG5uF9"
      },
      "source": [
        "j=0\n",
        "match1=[]\n",
        "point1=[]\n",
        "k=scrap1(match,18,0)\n",
        "for i in k:\n",
        "  j=j+1\n",
        "  if j%2==0:\n",
        "    point1.append(i)\n",
        "  elif j%2==1:\n",
        "    match1.append(i)\n"
      ],
      "execution_count": null,
      "outputs": []
    },
    {
      "cell_type": "code",
      "metadata": {
        "id": "1lVwQNfkFtJo"
      },
      "source": [
        "nine=pd.DataFrame([scrap1(team,10,1),match1,point1,scrap1(rating,9,0)]).T"
      ],
      "execution_count": null,
      "outputs": []
    },
    {
      "cell_type": "code",
      "metadata": {
        "id": "RPEK5SDILycp"
      },
      "source": [
        "top_ten=pd.concat([top,nine],axis=0,ignore_index=True)"
      ],
      "execution_count": null,
      "outputs": []
    },
    {
      "cell_type": "code",
      "metadata": {
        "id": "g9oUZcpuMzg6"
      },
      "source": [
        "top_ten.columns=['country','match','point','rating']"
      ],
      "execution_count": null,
      "outputs": []
    },
    {
      "cell_type": "code",
      "metadata": {
        "colab": {
          "base_uri": "https://localhost:8080/",
          "height": 359
        },
        "id": "0TBBYqahVb_m",
        "outputId": "1dddea91-9f6f-4844-c215-ba3d2f672450"
      },
      "source": [
        "top_ten"
      ],
      "execution_count": null,
      "outputs": [
        {
          "output_type": "execute_result",
          "data": {
            "text/html": [
              "<div>\n",
              "<style scoped>\n",
              "    .dataframe tbody tr th:only-of-type {\n",
              "        vertical-align: middle;\n",
              "    }\n",
              "\n",
              "    .dataframe tbody tr th {\n",
              "        vertical-align: top;\n",
              "    }\n",
              "\n",
              "    .dataframe thead th {\n",
              "        text-align: right;\n",
              "    }\n",
              "</style>\n",
              "<table border=\"1\" class=\"dataframe\">\n",
              "  <thead>\n",
              "    <tr style=\"text-align: right;\">\n",
              "      <th></th>\n",
              "      <th>country</th>\n",
              "      <th>match</th>\n",
              "      <th>point</th>\n",
              "      <th>rating</th>\n",
              "    </tr>\n",
              "  </thead>\n",
              "  <tbody>\n",
              "    <tr>\n",
              "      <th>0</th>\n",
              "      <td>New Zealand</td>\n",
              "      <td>25</td>\n",
              "      <td>25</td>\n",
              "      <td>118</td>\n",
              "    </tr>\n",
              "    <tr>\n",
              "      <th>1</th>\n",
              "      <td>Australia</td>\n",
              "      <td>25</td>\n",
              "      <td>2,945</td>\n",
              "      <td>118</td>\n",
              "    </tr>\n",
              "    <tr>\n",
              "      <th>2</th>\n",
              "      <td>India</td>\n",
              "      <td>29</td>\n",
              "      <td>3,344</td>\n",
              "      <td>115</td>\n",
              "    </tr>\n",
              "    <tr>\n",
              "      <th>3</th>\n",
              "      <td>England</td>\n",
              "      <td>27</td>\n",
              "      <td>3,100</td>\n",
              "      <td>115</td>\n",
              "    </tr>\n",
              "    <tr>\n",
              "      <th>4</th>\n",
              "      <td>South Africa</td>\n",
              "      <td>20</td>\n",
              "      <td>2,137</td>\n",
              "      <td>107</td>\n",
              "    </tr>\n",
              "    <tr>\n",
              "      <th>5</th>\n",
              "      <td>Pakistan</td>\n",
              "      <td>24</td>\n",
              "      <td>2,323</td>\n",
              "      <td>97</td>\n",
              "    </tr>\n",
              "    <tr>\n",
              "      <th>6</th>\n",
              "      <td>Bangladesh</td>\n",
              "      <td>24</td>\n",
              "      <td>2,157</td>\n",
              "      <td>90</td>\n",
              "    </tr>\n",
              "    <tr>\n",
              "      <th>7</th>\n",
              "      <td>West Indies</td>\n",
              "      <td>27</td>\n",
              "      <td>2,222</td>\n",
              "      <td>82</td>\n",
              "    </tr>\n",
              "    <tr>\n",
              "      <th>8</th>\n",
              "      <td>Sri Lanka</td>\n",
              "      <td>21</td>\n",
              "      <td>1,652</td>\n",
              "      <td>79</td>\n",
              "    </tr>\n",
              "    <tr>\n",
              "      <th>9</th>\n",
              "      <td>Afghanistan</td>\n",
              "      <td>17</td>\n",
              "      <td>1,054</td>\n",
              "      <td>62</td>\n",
              "    </tr>\n",
              "  </tbody>\n",
              "</table>\n",
              "</div>"
            ],
            "text/plain": [
              "        country match  point rating\n",
              "0   New Zealand    25     25    118\n",
              "1     Australia    25  2,945    118\n",
              "2         India    29  3,344    115\n",
              "3       England    27  3,100    115\n",
              "4  South Africa    20  2,137    107\n",
              "5      Pakistan    24  2,323     97\n",
              "6    Bangladesh    24  2,157     90\n",
              "7   West Indies    27  2,222     82\n",
              "8     Sri Lanka    21  1,652     79\n",
              "9   Afghanistan    17  1,054     62"
            ]
          },
          "metadata": {
            "tags": []
          },
          "execution_count": 196
        }
      ]
    },
    {
      "cell_type": "markdown",
      "metadata": {
        "id": "z_lwYKcBQQME"
      },
      "source": [
        "## Top 10 ODI Batsmen in men along with the records of their team and rating"
      ]
    },
    {
      "cell_type": "code",
      "metadata": {
        "colab": {
          "base_uri": "https://localhost:8080/"
        },
        "id": "bszhnKyGE4ac",
        "outputId": "63cdea3f-e888-40f5-bf15-650b3f2d5bc8"
      },
      "source": [
        "page=requests.get('https://www.icc-cricket.com/rankings/mens/player-rankings/odi')\n",
        "page"
      ],
      "execution_count": null,
      "outputs": [
        {
          "output_type": "execute_result",
          "data": {
            "text/plain": [
              "<Response [200]>"
            ]
          },
          "metadata": {
            "tags": []
          },
          "execution_count": 197
        }
      ]
    },
    {
      "cell_type": "code",
      "metadata": {
        "id": "Gj9lyQp5E4W6"
      },
      "source": [
        "soup3=BeautifulSoup(page.content)"
      ],
      "execution_count": null,
      "outputs": []
    },
    {
      "cell_type": "code",
      "metadata": {
        "id": "ohgLXp0GFVkx"
      },
      "source": [
        "def scrap(team,n,k,a,b):\n",
        "  ten_team=[]\n",
        "  j=0\n",
        "  for i in team:\n",
        "    ten_team.append(i.text[len(str())+a:-b].replace('\\n',''))\n",
        "    #ten_team.append(i.text.replace('\\n',''))\n",
        "    j=j+1\n",
        "    if j >= n:\n",
        "      break\n",
        "  \n",
        "  return(ten_team[k:n])"
      ],
      "execution_count": null,
      "outputs": []
    },
    {
      "cell_type": "code",
      "metadata": {
        "id": "T0gXYMX1QPyL"
      },
      "source": [
        "name=soup3.find_all('div',class_='rankings-block__banner--name')\n",
        "contry=soup3.find_all('div',class_='rankings-block__banner--nationality')\n",
        "rating=soup3.find_all('div',class_='rankings-block__banner--rating')"
      ],
      "execution_count": null,
      "outputs": []
    },
    {
      "cell_type": "code",
      "metadata": {
        "id": "PN733GFhM15U"
      },
      "source": [
        "top_bat=pd.DataFrame([scrap(name,1,0,0,1),scrap(contry,1,0,0,32),scrap1(rating,1,0)]).T"
      ],
      "execution_count": null,
      "outputs": []
    },
    {
      "cell_type": "code",
      "metadata": {
        "colab": {
          "base_uri": "https://localhost:8080/"
        },
        "id": "y88cvAuFR6L5",
        "outputId": "c4d57171-3902-4ae0-86e2-d476ec82f303"
      },
      "source": [
        "top_bat[1].values"
      ],
      "execution_count": null,
      "outputs": [
        {
          "output_type": "execute_result",
          "data": {
            "text/plain": [
              "array(['PAK'], dtype=object)"
            ]
          },
          "metadata": {
            "tags": []
          },
          "execution_count": 202
        }
      ]
    },
    {
      "cell_type": "code",
      "metadata": {
        "id": "_bxO1obIEjm1"
      },
      "source": [
        "name=soup3.find_all('td',class_='table-body__cell name')\n",
        "contry=soup3.find_all('td',class_='table-body__cell nationality-logo')\n",
        "rating=soup3.find_all('td',class_='table-body__cell u-text-right rating')\n"
      ],
      "execution_count": null,
      "outputs": []
    },
    {
      "cell_type": "code",
      "metadata": {
        "id": "nDNazyOpEokB"
      },
      "source": [
        "nine_bat=pd.DataFrame([scrap1(name,9,0),scrap1(contry,9,0),scrap1(rating,9,0)]).T"
      ],
      "execution_count": null,
      "outputs": []
    },
    {
      "cell_type": "code",
      "metadata": {
        "colab": {
          "base_uri": "https://localhost:8080/",
          "height": 328
        },
        "id": "XUW6qKxAe9jA",
        "outputId": "b565f0e0-b0e3-4674-c205-be499b7f9e5f"
      },
      "source": [
        "nine_bat"
      ],
      "execution_count": null,
      "outputs": [
        {
          "output_type": "execute_result",
          "data": {
            "text/html": [
              "<div>\n",
              "<style scoped>\n",
              "    .dataframe tbody tr th:only-of-type {\n",
              "        vertical-align: middle;\n",
              "    }\n",
              "\n",
              "    .dataframe tbody tr th {\n",
              "        vertical-align: top;\n",
              "    }\n",
              "\n",
              "    .dataframe thead th {\n",
              "        text-align: right;\n",
              "    }\n",
              "</style>\n",
              "<table border=\"1\" class=\"dataframe\">\n",
              "  <thead>\n",
              "    <tr style=\"text-align: right;\">\n",
              "      <th></th>\n",
              "      <th>0</th>\n",
              "      <th>1</th>\n",
              "      <th>2</th>\n",
              "    </tr>\n",
              "  </thead>\n",
              "  <tbody>\n",
              "    <tr>\n",
              "      <th>0</th>\n",
              "      <td>Virat Kohli</td>\n",
              "      <td>IND</td>\n",
              "      <td>857</td>\n",
              "    </tr>\n",
              "    <tr>\n",
              "      <th>1</th>\n",
              "      <td>Rohit Sharma</td>\n",
              "      <td>IND</td>\n",
              "      <td>825</td>\n",
              "    </tr>\n",
              "    <tr>\n",
              "      <th>2</th>\n",
              "      <td>Ross Taylor</td>\n",
              "      <td>NZ</td>\n",
              "      <td>801</td>\n",
              "    </tr>\n",
              "    <tr>\n",
              "      <th>3</th>\n",
              "      <td>Aaron Finch</td>\n",
              "      <td>AUS</td>\n",
              "      <td>791</td>\n",
              "    </tr>\n",
              "    <tr>\n",
              "      <th>4</th>\n",
              "      <td>Jonny Bairstow</td>\n",
              "      <td>ENG</td>\n",
              "      <td>785</td>\n",
              "    </tr>\n",
              "    <tr>\n",
              "      <th>5</th>\n",
              "      <td>Fakhar Zaman</td>\n",
              "      <td>PAK</td>\n",
              "      <td>778</td>\n",
              "    </tr>\n",
              "    <tr>\n",
              "      <th>6</th>\n",
              "      <td>Francois du Plessis</td>\n",
              "      <td>SA</td>\n",
              "      <td>778</td>\n",
              "    </tr>\n",
              "    <tr>\n",
              "      <th>7</th>\n",
              "      <td>David Warner</td>\n",
              "      <td>AUS</td>\n",
              "      <td>773</td>\n",
              "    </tr>\n",
              "    <tr>\n",
              "      <th>8</th>\n",
              "      <td>Shai Hope</td>\n",
              "      <td>WI</td>\n",
              "      <td>773</td>\n",
              "    </tr>\n",
              "  </tbody>\n",
              "</table>\n",
              "</div>"
            ],
            "text/plain": [
              "                     0    1    2\n",
              "0          Virat Kohli  IND  857\n",
              "1         Rohit Sharma  IND  825\n",
              "2          Ross Taylor   NZ  801\n",
              "3          Aaron Finch  AUS  791\n",
              "4       Jonny Bairstow  ENG  785\n",
              "5         Fakhar Zaman  PAK  778\n",
              "6  Francois du Plessis   SA  778\n",
              "7         David Warner  AUS  773\n",
              "8            Shai Hope   WI  773"
            ]
          },
          "metadata": {
            "tags": []
          },
          "execution_count": 205
        }
      ]
    },
    {
      "cell_type": "code",
      "metadata": {
        "id": "rkg6nNYxPBhG"
      },
      "source": [
        "bat=pd.concat([top_bat,nine_bat],axis=0,ignore_index=True)"
      ],
      "execution_count": null,
      "outputs": []
    },
    {
      "cell_type": "code",
      "metadata": {
        "id": "JqVojggNPipD"
      },
      "source": [
        "bat.columns=['Name','con_code','per_Rating']"
      ],
      "execution_count": null,
      "outputs": []
    },
    {
      "cell_type": "code",
      "metadata": {
        "id": "i86aOwvtHHYN"
      },
      "source": [
        "bat['country']=bat['con_code'].map({'IND':'India','NZ':'New Zealand','AUS':'Australia','ENG':'England','PAK':'Pakistan','WI':'West Indies','SA':'South Africa','PAK':'Pakistan'})"
      ],
      "execution_count": null,
      "outputs": []
    },
    {
      "cell_type": "code",
      "metadata": {
        "colab": {
          "base_uri": "https://localhost:8080/",
          "height": 359
        },
        "id": "ur0qLrQ1LS_n",
        "outputId": "7793f7b7-c787-4183-ac42-35a2fe1c2eed"
      },
      "source": [
        "bat.merge(top_ten,how='inner').sort_values(by='per_Rating',ascending=False)"
      ],
      "execution_count": null,
      "outputs": [
        {
          "output_type": "execute_result",
          "data": {
            "text/html": [
              "<div>\n",
              "<style scoped>\n",
              "    .dataframe tbody tr th:only-of-type {\n",
              "        vertical-align: middle;\n",
              "    }\n",
              "\n",
              "    .dataframe tbody tr th {\n",
              "        vertical-align: top;\n",
              "    }\n",
              "\n",
              "    .dataframe thead th {\n",
              "        text-align: right;\n",
              "    }\n",
              "</style>\n",
              "<table border=\"1\" class=\"dataframe\">\n",
              "  <thead>\n",
              "    <tr style=\"text-align: right;\">\n",
              "      <th></th>\n",
              "      <th>Name</th>\n",
              "      <th>con_code</th>\n",
              "      <th>per_Rating</th>\n",
              "      <th>country</th>\n",
              "      <th>match</th>\n",
              "      <th>point</th>\n",
              "      <th>rating</th>\n",
              "    </tr>\n",
              "  </thead>\n",
              "  <tbody>\n",
              "    <tr>\n",
              "      <th>0</th>\n",
              "      <td>Babar Aza</td>\n",
              "      <td>PAK</td>\n",
              "      <td>865</td>\n",
              "      <td>Pakistan</td>\n",
              "      <td>24</td>\n",
              "      <td>2,323</td>\n",
              "      <td>97</td>\n",
              "    </tr>\n",
              "    <tr>\n",
              "      <th>2</th>\n",
              "      <td>Virat Kohli</td>\n",
              "      <td>IND</td>\n",
              "      <td>857</td>\n",
              "      <td>India</td>\n",
              "      <td>29</td>\n",
              "      <td>3,344</td>\n",
              "      <td>115</td>\n",
              "    </tr>\n",
              "    <tr>\n",
              "      <th>3</th>\n",
              "      <td>Rohit Sharma</td>\n",
              "      <td>IND</td>\n",
              "      <td>825</td>\n",
              "      <td>India</td>\n",
              "      <td>29</td>\n",
              "      <td>3,344</td>\n",
              "      <td>115</td>\n",
              "    </tr>\n",
              "    <tr>\n",
              "      <th>4</th>\n",
              "      <td>Ross Taylor</td>\n",
              "      <td>NZ</td>\n",
              "      <td>801</td>\n",
              "      <td>New Zealand</td>\n",
              "      <td>25</td>\n",
              "      <td>25</td>\n",
              "      <td>118</td>\n",
              "    </tr>\n",
              "    <tr>\n",
              "      <th>5</th>\n",
              "      <td>Aaron Finch</td>\n",
              "      <td>AUS</td>\n",
              "      <td>791</td>\n",
              "      <td>Australia</td>\n",
              "      <td>25</td>\n",
              "      <td>2,945</td>\n",
              "      <td>118</td>\n",
              "    </tr>\n",
              "    <tr>\n",
              "      <th>7</th>\n",
              "      <td>Jonny Bairstow</td>\n",
              "      <td>ENG</td>\n",
              "      <td>785</td>\n",
              "      <td>England</td>\n",
              "      <td>27</td>\n",
              "      <td>3,100</td>\n",
              "      <td>115</td>\n",
              "    </tr>\n",
              "    <tr>\n",
              "      <th>1</th>\n",
              "      <td>Fakhar Zaman</td>\n",
              "      <td>PAK</td>\n",
              "      <td>778</td>\n",
              "      <td>Pakistan</td>\n",
              "      <td>24</td>\n",
              "      <td>2,323</td>\n",
              "      <td>97</td>\n",
              "    </tr>\n",
              "    <tr>\n",
              "      <th>8</th>\n",
              "      <td>Francois du Plessis</td>\n",
              "      <td>SA</td>\n",
              "      <td>778</td>\n",
              "      <td>South Africa</td>\n",
              "      <td>20</td>\n",
              "      <td>2,137</td>\n",
              "      <td>107</td>\n",
              "    </tr>\n",
              "    <tr>\n",
              "      <th>6</th>\n",
              "      <td>David Warner</td>\n",
              "      <td>AUS</td>\n",
              "      <td>773</td>\n",
              "      <td>Australia</td>\n",
              "      <td>25</td>\n",
              "      <td>2,945</td>\n",
              "      <td>118</td>\n",
              "    </tr>\n",
              "    <tr>\n",
              "      <th>9</th>\n",
              "      <td>Shai Hope</td>\n",
              "      <td>WI</td>\n",
              "      <td>773</td>\n",
              "      <td>West Indies</td>\n",
              "      <td>27</td>\n",
              "      <td>2,222</td>\n",
              "      <td>82</td>\n",
              "    </tr>\n",
              "  </tbody>\n",
              "</table>\n",
              "</div>"
            ],
            "text/plain": [
              "                  Name con_code per_Rating       country match  point rating\n",
              "0            Babar Aza      PAK        865      Pakistan    24  2,323     97\n",
              "2          Virat Kohli      IND        857         India    29  3,344    115\n",
              "3         Rohit Sharma      IND        825         India    29  3,344    115\n",
              "4          Ross Taylor       NZ        801   New Zealand    25     25    118\n",
              "5          Aaron Finch      AUS        791     Australia    25  2,945    118\n",
              "7       Jonny Bairstow      ENG        785       England    27  3,100    115\n",
              "1         Fakhar Zaman      PAK        778      Pakistan    24  2,323     97\n",
              "8  Francois du Plessis       SA        778  South Africa    20  2,137    107\n",
              "6         David Warner      AUS        773     Australia    25  2,945    118\n",
              "9            Shai Hope       WI        773   West Indies    27  2,222     82"
            ]
          },
          "metadata": {
            "tags": []
          },
          "execution_count": 209
        }
      ]
    },
    {
      "cell_type": "markdown",
      "metadata": {
        "id": "NFQg5B8wY-uf"
      },
      "source": [
        "## iii)Top 10 ODI bowlers along with the records of their team and rating."
      ]
    },
    {
      "cell_type": "code",
      "metadata": {
        "colab": {
          "base_uri": "https://localhost:8080/"
        },
        "id": "SIeE3-gXY9Wm",
        "outputId": "ed4bda12-1f8a-49cc-850f-102522f8a9a5"
      },
      "source": [
        "page=requests.get('https://www.icc-cricket.com/rankings/mens/player-rankings/odi/bowling')\n",
        "page"
      ],
      "execution_count": null,
      "outputs": [
        {
          "output_type": "execute_result",
          "data": {
            "text/plain": [
              "<Response [200]>"
            ]
          },
          "metadata": {
            "tags": []
          },
          "execution_count": 210
        }
      ]
    },
    {
      "cell_type": "code",
      "metadata": {
        "id": "_eUadqsmTgOD"
      },
      "source": [
        "soup3=BeautifulSoup(page.content)"
      ],
      "execution_count": null,
      "outputs": []
    },
    {
      "cell_type": "code",
      "metadata": {
        "id": "YPw-h0SmZQ5e"
      },
      "source": [
        "name=soup3.find_all('div',class_='rankings-block__banner--name-large')\n",
        "contry=soup3.find_all('div',class_='rankings-block__banner--nationality')\n",
        "rating=soup3.find_all('div',class_='rankings-block__banner--rating')\n"
      ],
      "execution_count": null,
      "outputs": []
    },
    {
      "cell_type": "code",
      "metadata": {
        "id": "7vMcxHPKZYr3"
      },
      "source": [
        "top_ball=pd.DataFrame([scrap(name,1,0,0,1),scrap(contry,1,0,0,20),scrap1(rating,1,0)]).T"
      ],
      "execution_count": null,
      "outputs": []
    },
    {
      "cell_type": "code",
      "metadata": {
        "id": "7NxDLmWXZYkI"
      },
      "source": [
        "name=soup3.find_all('td',class_='table-body__cell rankings-table__name name')\n",
        "contry=soup3.find_all('td',class_='table-body__cell nationality-logo rankings-table__team')\n",
        "rating=soup3.find_all('td',class_='table-body__cell rating')\n"
      ],
      "execution_count": null,
      "outputs": []
    },
    {
      "cell_type": "code",
      "metadata": {
        "id": "Zi7ofLPaZYYc"
      },
      "source": [
        "nine_ball=pd.DataFrame([scrap(name,9,0,0,1),scrap(contry,9,0,0,1),scrap1(rating,9,0)]).T"
      ],
      "execution_count": null,
      "outputs": []
    },
    {
      "cell_type": "code",
      "metadata": {
        "id": "TYXcmRrrbOhS"
      },
      "source": [
        "ball=pd.concat([top_ball,nine_ball],axis=0,ignore_index=True)"
      ],
      "execution_count": null,
      "outputs": []
    },
    {
      "cell_type": "code",
      "metadata": {
        "id": "9ceLoVcGcoL_"
      },
      "source": [
        "ball.columns=['Name','con_code','per_rating']"
      ],
      "execution_count": null,
      "outputs": []
    },
    {
      "cell_type": "code",
      "metadata": {
        "id": "FtaAn3UzdZ5c"
      },
      "source": [
        "ball['country']=ball['con_code'].map({'IND':'India','NZ':'New Zealand','AUS':'Australia','ENG':'England','PAK':'Pakistan','WI':'West Indies','SA':'South Africa','PAK':'Pakistan','AFG':'Afghanistan','BAN':'Bangladesh'})"
      ],
      "execution_count": null,
      "outputs": []
    },
    {
      "cell_type": "code",
      "metadata": {
        "colab": {
          "base_uri": "https://localhost:8080/",
          "height": 359
        },
        "id": "4bdP99xxkRAc",
        "outputId": "c8d04531-55a7-47eb-8fea-de94212014bc"
      },
      "source": [
        "ball"
      ],
      "execution_count": null,
      "outputs": [
        {
          "output_type": "execute_result",
          "data": {
            "text/html": [
              "<div>\n",
              "<style scoped>\n",
              "    .dataframe tbody tr th:only-of-type {\n",
              "        vertical-align: middle;\n",
              "    }\n",
              "\n",
              "    .dataframe tbody tr th {\n",
              "        vertical-align: top;\n",
              "    }\n",
              "\n",
              "    .dataframe thead th {\n",
              "        text-align: right;\n",
              "    }\n",
              "</style>\n",
              "<table border=\"1\" class=\"dataframe\">\n",
              "  <thead>\n",
              "    <tr style=\"text-align: right;\">\n",
              "      <th></th>\n",
              "      <th>Name</th>\n",
              "      <th>con_code</th>\n",
              "      <th>per_rating</th>\n",
              "      <th>country</th>\n",
              "    </tr>\n",
              "  </thead>\n",
              "  <tbody>\n",
              "    <tr>\n",
              "      <th>0</th>\n",
              "      <td>Trent Boul</td>\n",
              "      <td>NZ</td>\n",
              "      <td>737</td>\n",
              "      <td>New Zealand</td>\n",
              "    </tr>\n",
              "    <tr>\n",
              "      <th>1</th>\n",
              "      <td>Mujeeb Ur Rahman</td>\n",
              "      <td>AFG</td>\n",
              "      <td>708</td>\n",
              "      <td>Afghanistan</td>\n",
              "    </tr>\n",
              "    <tr>\n",
              "      <th>2</th>\n",
              "      <td>Matt Henry</td>\n",
              "      <td>NZ</td>\n",
              "      <td>691</td>\n",
              "      <td>New Zealand</td>\n",
              "    </tr>\n",
              "    <tr>\n",
              "      <th>3</th>\n",
              "      <td>Jasprit Bumrah</td>\n",
              "      <td>IND</td>\n",
              "      <td>690</td>\n",
              "      <td>India</td>\n",
              "    </tr>\n",
              "    <tr>\n",
              "      <th>4</th>\n",
              "      <td>Mehedi Hasan</td>\n",
              "      <td>BAN</td>\n",
              "      <td>668</td>\n",
              "      <td>Bangladesh</td>\n",
              "    </tr>\n",
              "    <tr>\n",
              "      <th>5</th>\n",
              "      <td>Kagiso Rabada</td>\n",
              "      <td>SA</td>\n",
              "      <td>666</td>\n",
              "      <td>South Africa</td>\n",
              "    </tr>\n",
              "    <tr>\n",
              "      <th>6</th>\n",
              "      <td>Chris Woakes</td>\n",
              "      <td>ENG</td>\n",
              "      <td>665</td>\n",
              "      <td>England</td>\n",
              "    </tr>\n",
              "    <tr>\n",
              "      <th>7</th>\n",
              "      <td>Josh Hazlewood</td>\n",
              "      <td>AUS</td>\n",
              "      <td>660</td>\n",
              "      <td>Australia</td>\n",
              "    </tr>\n",
              "    <tr>\n",
              "      <th>8</th>\n",
              "      <td>Pat Cummins</td>\n",
              "      <td>AUS</td>\n",
              "      <td>646</td>\n",
              "      <td>Australia</td>\n",
              "    </tr>\n",
              "    <tr>\n",
              "      <th>9</th>\n",
              "      <td>Mohammad Amir</td>\n",
              "      <td>PAK</td>\n",
              "      <td>638</td>\n",
              "      <td>Pakistan</td>\n",
              "    </tr>\n",
              "  </tbody>\n",
              "</table>\n",
              "</div>"
            ],
            "text/plain": [
              "               Name con_code per_rating       country\n",
              "0        Trent Boul       NZ        737   New Zealand\n",
              "1  Mujeeb Ur Rahman      AFG        708   Afghanistan\n",
              "2        Matt Henry       NZ        691   New Zealand\n",
              "3    Jasprit Bumrah      IND        690         India\n",
              "4      Mehedi Hasan      BAN        668    Bangladesh\n",
              "5     Kagiso Rabada       SA        666  South Africa\n",
              "6      Chris Woakes      ENG        665       England\n",
              "7    Josh Hazlewood      AUS        660     Australia\n",
              "8       Pat Cummins      AUS        646     Australia\n",
              "9     Mohammad Amir      PAK        638      Pakistan"
            ]
          },
          "metadata": {
            "tags": []
          },
          "execution_count": 219
        }
      ]
    },
    {
      "cell_type": "code",
      "metadata": {
        "colab": {
          "base_uri": "https://localhost:8080/",
          "height": 359
        },
        "id": "KyAQT4bGeHeI",
        "outputId": "8f3da16f-21c5-4c1b-973a-f8ea1c116e65"
      },
      "source": [
        "ball.merge(top_ten,how='inner').sort_values(by='per_rating',ascending=False)"
      ],
      "execution_count": null,
      "outputs": [
        {
          "output_type": "execute_result",
          "data": {
            "text/html": [
              "<div>\n",
              "<style scoped>\n",
              "    .dataframe tbody tr th:only-of-type {\n",
              "        vertical-align: middle;\n",
              "    }\n",
              "\n",
              "    .dataframe tbody tr th {\n",
              "        vertical-align: top;\n",
              "    }\n",
              "\n",
              "    .dataframe thead th {\n",
              "        text-align: right;\n",
              "    }\n",
              "</style>\n",
              "<table border=\"1\" class=\"dataframe\">\n",
              "  <thead>\n",
              "    <tr style=\"text-align: right;\">\n",
              "      <th></th>\n",
              "      <th>Name</th>\n",
              "      <th>con_code</th>\n",
              "      <th>per_rating</th>\n",
              "      <th>country</th>\n",
              "      <th>match</th>\n",
              "      <th>point</th>\n",
              "      <th>rating</th>\n",
              "    </tr>\n",
              "  </thead>\n",
              "  <tbody>\n",
              "    <tr>\n",
              "      <th>0</th>\n",
              "      <td>Trent Boul</td>\n",
              "      <td>NZ</td>\n",
              "      <td>737</td>\n",
              "      <td>New Zealand</td>\n",
              "      <td>25</td>\n",
              "      <td>25</td>\n",
              "      <td>118</td>\n",
              "    </tr>\n",
              "    <tr>\n",
              "      <th>2</th>\n",
              "      <td>Mujeeb Ur Rahman</td>\n",
              "      <td>AFG</td>\n",
              "      <td>708</td>\n",
              "      <td>Afghanistan</td>\n",
              "      <td>17</td>\n",
              "      <td>1,054</td>\n",
              "      <td>62</td>\n",
              "    </tr>\n",
              "    <tr>\n",
              "      <th>1</th>\n",
              "      <td>Matt Henry</td>\n",
              "      <td>NZ</td>\n",
              "      <td>691</td>\n",
              "      <td>New Zealand</td>\n",
              "      <td>25</td>\n",
              "      <td>25</td>\n",
              "      <td>118</td>\n",
              "    </tr>\n",
              "    <tr>\n",
              "      <th>3</th>\n",
              "      <td>Jasprit Bumrah</td>\n",
              "      <td>IND</td>\n",
              "      <td>690</td>\n",
              "      <td>India</td>\n",
              "      <td>29</td>\n",
              "      <td>3,344</td>\n",
              "      <td>115</td>\n",
              "    </tr>\n",
              "    <tr>\n",
              "      <th>4</th>\n",
              "      <td>Mehedi Hasan</td>\n",
              "      <td>BAN</td>\n",
              "      <td>668</td>\n",
              "      <td>Bangladesh</td>\n",
              "      <td>24</td>\n",
              "      <td>2,157</td>\n",
              "      <td>90</td>\n",
              "    </tr>\n",
              "    <tr>\n",
              "      <th>5</th>\n",
              "      <td>Kagiso Rabada</td>\n",
              "      <td>SA</td>\n",
              "      <td>666</td>\n",
              "      <td>South Africa</td>\n",
              "      <td>20</td>\n",
              "      <td>2,137</td>\n",
              "      <td>107</td>\n",
              "    </tr>\n",
              "    <tr>\n",
              "      <th>6</th>\n",
              "      <td>Chris Woakes</td>\n",
              "      <td>ENG</td>\n",
              "      <td>665</td>\n",
              "      <td>England</td>\n",
              "      <td>27</td>\n",
              "      <td>3,100</td>\n",
              "      <td>115</td>\n",
              "    </tr>\n",
              "    <tr>\n",
              "      <th>7</th>\n",
              "      <td>Josh Hazlewood</td>\n",
              "      <td>AUS</td>\n",
              "      <td>660</td>\n",
              "      <td>Australia</td>\n",
              "      <td>25</td>\n",
              "      <td>2,945</td>\n",
              "      <td>118</td>\n",
              "    </tr>\n",
              "    <tr>\n",
              "      <th>8</th>\n",
              "      <td>Pat Cummins</td>\n",
              "      <td>AUS</td>\n",
              "      <td>646</td>\n",
              "      <td>Australia</td>\n",
              "      <td>25</td>\n",
              "      <td>2,945</td>\n",
              "      <td>118</td>\n",
              "    </tr>\n",
              "    <tr>\n",
              "      <th>9</th>\n",
              "      <td>Mohammad Amir</td>\n",
              "      <td>PAK</td>\n",
              "      <td>638</td>\n",
              "      <td>Pakistan</td>\n",
              "      <td>24</td>\n",
              "      <td>2,323</td>\n",
              "      <td>97</td>\n",
              "    </tr>\n",
              "  </tbody>\n",
              "</table>\n",
              "</div>"
            ],
            "text/plain": [
              "               Name con_code per_rating       country match  point rating\n",
              "0        Trent Boul       NZ        737   New Zealand    25     25    118\n",
              "2  Mujeeb Ur Rahman      AFG        708   Afghanistan    17  1,054     62\n",
              "1        Matt Henry       NZ        691   New Zealand    25     25    118\n",
              "3    Jasprit Bumrah      IND        690         India    29  3,344    115\n",
              "4      Mehedi Hasan      BAN        668    Bangladesh    24  2,157     90\n",
              "5     Kagiso Rabada       SA        666  South Africa    20  2,137    107\n",
              "6      Chris Woakes      ENG        665       England    27  3,100    115\n",
              "7    Josh Hazlewood      AUS        660     Australia    25  2,945    118\n",
              "8       Pat Cummins      AUS        646     Australia    25  2,945    118\n",
              "9     Mohammad Amir      PAK        638      Pakistan    24  2,323     97"
            ]
          },
          "metadata": {
            "tags": []
          },
          "execution_count": 220
        }
      ]
    },
    {
      "cell_type": "markdown",
      "metadata": {
        "id": "nHV7vog20w-F"
      },
      "source": [
        "# Write a python program to scrape cricket rankings from ‘www.icc-cricket.com’. You have to scrape:"
      ]
    },
    {
      "cell_type": "markdown",
      "metadata": {
        "id": "brWYVTMl00c_"
      },
      "source": [
        "## Top 10 ODI teams in women’s cricket along with the records for matches, points and rating."
      ]
    },
    {
      "cell_type": "code",
      "metadata": {
        "colab": {
          "base_uri": "https://localhost:8080/"
        },
        "id": "O7__cMGD1V7n",
        "outputId": "13bd019e-e025-4190-f80c-7a55d0aa3ab1"
      },
      "source": [
        "page=requests.get('https://www.icc-cricket.com/rankings/womens/team-rankings/odi')\n",
        "page"
      ],
      "execution_count": null,
      "outputs": [
        {
          "output_type": "execute_result",
          "data": {
            "text/plain": [
              "<Response [200]>"
            ]
          },
          "metadata": {
            "tags": []
          },
          "execution_count": 230
        }
      ]
    },
    {
      "cell_type": "code",
      "metadata": {
        "id": "NX6-SsE71V7p"
      },
      "source": [
        "soup2=BeautifulSoup(page.content)"
      ],
      "execution_count": null,
      "outputs": []
    },
    {
      "cell_type": "code",
      "metadata": {
        "id": "CDgXCClb1V7q"
      },
      "source": [
        "team=soup2.find_all('span',class_='u-hide-phablet')\n",
        "match=soup2.find_all('td',class_='rankings-block__banner--matches')\n",
        "point=soup2.find_all('td',class_='rankings-block__banner--points')\n",
        "rating=soup2.find_all('td',class_='rankings-block__banner--rating u-text-right')"
      ],
      "execution_count": null,
      "outputs": []
    },
    {
      "cell_type": "code",
      "metadata": {
        "id": "I9C4ax0w1V7r"
      },
      "source": [
        "def scrap1(team,n,k):\n",
        "  ten_team=[]\n",
        "  j=0\n",
        "  for i in team:\n",
        "    #five_book.append(i.text[len(str())+15:-7].replace('\\n',''))\n",
        "    ten_team.append(i.text.replace('\\n',''))\n",
        "    j=j+1\n",
        "    if j >= n:\n",
        "      break\n",
        "  \n",
        "  return(ten_team[k:n])"
      ],
      "execution_count": null,
      "outputs": []
    },
    {
      "cell_type": "code",
      "metadata": {
        "id": "shbq6BMx87ET"
      },
      "source": [
        "top=pd.DataFrame([scrap1(team,1,0),scrap1(match,1,0),scrap1(point,1,0),scrap1(rating,1,0)]).T"
      ],
      "execution_count": null,
      "outputs": []
    },
    {
      "cell_type": "code",
      "metadata": {
        "id": "lJHUhMVQ87E0"
      },
      "source": [
        "team=soup2.find_all('span',class_='u-hide-phablet')\n",
        "match=soup2.find_all('td',class_='table-body__cell u-center-text')\n",
        "point=soup2.find_all('td',class_='table-body__cell u-center-text')\n",
        "rating=soup2.find_all('td',class_='table-body__cell u-text-right rating')"
      ],
      "execution_count": null,
      "outputs": []
    },
    {
      "cell_type": "code",
      "metadata": {
        "id": "DknFoFvC8lMg"
      },
      "source": [
        "j=0\n",
        "match1=[]\n",
        "point1=[]\n",
        "k=scrap1(match,18,0)\n",
        "for i in k:\n",
        "  j=j+1\n",
        "  if j%2==0:\n",
        "    point1.append(i)\n",
        "  elif j%2==1:\n",
        "    match1.append(i)\n"
      ],
      "execution_count": null,
      "outputs": []
    },
    {
      "cell_type": "code",
      "metadata": {
        "id": "ECk10-ya8lMi"
      },
      "source": [
        "nine=pd.DataFrame([scrap1(team,10,1),match1,point1,scrap1(rating,9,0)]).T"
      ],
      "execution_count": null,
      "outputs": []
    },
    {
      "cell_type": "code",
      "metadata": {
        "id": "sgHvHfWl8lMj"
      },
      "source": [
        "top_ten=pd.concat([top,nine],axis=0,ignore_index=True)"
      ],
      "execution_count": null,
      "outputs": []
    },
    {
      "cell_type": "code",
      "metadata": {
        "id": "HArPy0DO8lMk"
      },
      "source": [
        "top_ten.columns=['country','match','point','rating']"
      ],
      "execution_count": null,
      "outputs": []
    },
    {
      "cell_type": "code",
      "metadata": {
        "colab": {
          "base_uri": "https://localhost:8080/",
          "height": 359
        },
        "id": "Vpa3i6kh8lMm",
        "outputId": "6cb80c85-ff89-44e8-b261-46e9220ad5ff"
      },
      "source": [
        "top_ten"
      ],
      "execution_count": null,
      "outputs": [
        {
          "output_type": "execute_result",
          "data": {
            "text/html": [
              "<div>\n",
              "<style scoped>\n",
              "    .dataframe tbody tr th:only-of-type {\n",
              "        vertical-align: middle;\n",
              "    }\n",
              "\n",
              "    .dataframe tbody tr th {\n",
              "        vertical-align: top;\n",
              "    }\n",
              "\n",
              "    .dataframe thead th {\n",
              "        text-align: right;\n",
              "    }\n",
              "</style>\n",
              "<table border=\"1\" class=\"dataframe\">\n",
              "  <thead>\n",
              "    <tr style=\"text-align: right;\">\n",
              "      <th></th>\n",
              "      <th>country</th>\n",
              "      <th>match</th>\n",
              "      <th>point</th>\n",
              "      <th>rating</th>\n",
              "    </tr>\n",
              "  </thead>\n",
              "  <tbody>\n",
              "    <tr>\n",
              "      <th>0</th>\n",
              "      <td>Australia</td>\n",
              "      <td>18</td>\n",
              "      <td>2,955</td>\n",
              "      <td>164               ...</td>\n",
              "    </tr>\n",
              "    <tr>\n",
              "      <th>1</th>\n",
              "      <td>South Africa</td>\n",
              "      <td>24</td>\n",
              "      <td>2,828</td>\n",
              "      <td>118</td>\n",
              "    </tr>\n",
              "    <tr>\n",
              "      <th>2</th>\n",
              "      <td>England</td>\n",
              "      <td>17</td>\n",
              "      <td>1,993</td>\n",
              "      <td>117</td>\n",
              "    </tr>\n",
              "    <tr>\n",
              "      <th>3</th>\n",
              "      <td>India</td>\n",
              "      <td>20</td>\n",
              "      <td>2,226</td>\n",
              "      <td>111</td>\n",
              "    </tr>\n",
              "    <tr>\n",
              "      <th>4</th>\n",
              "      <td>New Zealand</td>\n",
              "      <td>21</td>\n",
              "      <td>1,947</td>\n",
              "      <td>93</td>\n",
              "    </tr>\n",
              "    <tr>\n",
              "      <th>5</th>\n",
              "      <td>West Indies</td>\n",
              "      <td>12</td>\n",
              "      <td>1,025</td>\n",
              "      <td>85</td>\n",
              "    </tr>\n",
              "    <tr>\n",
              "      <th>6</th>\n",
              "      <td>Pakistan</td>\n",
              "      <td>15</td>\n",
              "      <td>1,101</td>\n",
              "      <td>73</td>\n",
              "    </tr>\n",
              "    <tr>\n",
              "      <th>7</th>\n",
              "      <td>Bangladesh</td>\n",
              "      <td>5</td>\n",
              "      <td>306</td>\n",
              "      <td>61</td>\n",
              "    </tr>\n",
              "    <tr>\n",
              "      <th>8</th>\n",
              "      <td>Sri Lanka</td>\n",
              "      <td>11</td>\n",
              "      <td>519</td>\n",
              "      <td>47</td>\n",
              "    </tr>\n",
              "    <tr>\n",
              "      <th>9</th>\n",
              "      <td>Ireland</td>\n",
              "      <td>2</td>\n",
              "      <td>25</td>\n",
              "      <td>13</td>\n",
              "    </tr>\n",
              "  </tbody>\n",
              "</table>\n",
              "</div>"
            ],
            "text/plain": [
              "        country match  point                                             rating\n",
              "0     Australia    18  2,955                              164               ...\n",
              "1  South Africa    24  2,828                                                118\n",
              "2       England    17  1,993                                                117\n",
              "3         India    20  2,226                                                111\n",
              "4   New Zealand    21  1,947                                                 93\n",
              "5   West Indies    12  1,025                                                 85\n",
              "6      Pakistan    15  1,101                                                 73\n",
              "7    Bangladesh     5    306                                                 61\n",
              "8     Sri Lanka    11    519                                                 47\n",
              "9       Ireland     2     25                                                 13"
            ]
          },
          "metadata": {
            "tags": []
          },
          "execution_count": 240
        }
      ]
    },
    {
      "cell_type": "markdown",
      "metadata": {
        "id": "EQdqCFoe9njT"
      },
      "source": [
        "## Top 10 women’s ODI players along with the records of their team and rating."
      ]
    },
    {
      "cell_type": "code",
      "metadata": {
        "id": "0U-3oMmY06BR"
      },
      "source": [
        ""
      ],
      "execution_count": null,
      "outputs": []
    },
    {
      "cell_type": "code",
      "metadata": {
        "colab": {
          "base_uri": "https://localhost:8080/"
        },
        "id": "gawFPl9k97Oa",
        "outputId": "1eaf9ae8-d7d7-4389-818b-d52a50387009"
      },
      "source": [
        "page=requests.get('https://www.icc-cricket.com/rankings/womens/player-rankings/odi')\n",
        "page"
      ],
      "execution_count": null,
      "outputs": [
        {
          "output_type": "execute_result",
          "data": {
            "text/plain": [
              "<Response [200]>"
            ]
          },
          "metadata": {
            "tags": []
          },
          "execution_count": 241
        }
      ]
    },
    {
      "cell_type": "code",
      "metadata": {
        "id": "ssv4SxJb97Op"
      },
      "source": [
        "soup3=BeautifulSoup(page.content)"
      ],
      "execution_count": null,
      "outputs": []
    },
    {
      "cell_type": "code",
      "metadata": {
        "id": "JKf8gDbr97Oq"
      },
      "source": [
        "def scrap(team,n,k,a,b):\n",
        "  ten_team=[]\n",
        "  j=0\n",
        "  for i in team:\n",
        "    ten_team.append(i.text[len(str())+a:-b].replace('\\n',''))\n",
        "    #ten_team.append(i.text.replace('\\n',''))\n",
        "    j=j+1\n",
        "    if j >= n:\n",
        "      break\n",
        "  \n",
        "  return(ten_team[k:n])"
      ],
      "execution_count": null,
      "outputs": []
    },
    {
      "cell_type": "code",
      "metadata": {
        "id": "9gOjUA-E97Oq"
      },
      "source": [
        "name=soup3.find_all('div',class_='rankings-block__banner--name')\n",
        "contry=soup3.find_all('div',class_='rankings-block__banner--nationality')\n",
        "rating=soup3.find_all('div',class_='rankings-block__banner--rating')"
      ],
      "execution_count": null,
      "outputs": []
    },
    {
      "cell_type": "code",
      "metadata": {
        "id": "PQFQuH3g97Or"
      },
      "source": [
        "top_bat=pd.DataFrame([scrap(name,1,0,0,1),scrap(contry,1,0,0,32),scrap1(rating,1,0)]).T"
      ],
      "execution_count": null,
      "outputs": []
    },
    {
      "cell_type": "code",
      "metadata": {
        "colab": {
          "base_uri": "https://localhost:8080/"
        },
        "id": "f2uAEaL-97Or",
        "outputId": "b2e8bc67-bbcb-43ae-f193-98463b5e033b"
      },
      "source": [
        "top_bat[1].values"
      ],
      "execution_count": null,
      "outputs": [
        {
          "output_type": "execute_result",
          "data": {
            "text/plain": [
              "array(['ENG'], dtype=object)"
            ]
          },
          "metadata": {
            "tags": []
          },
          "execution_count": 246
        }
      ]
    },
    {
      "cell_type": "code",
      "metadata": {
        "id": "Lcd2uA4O97Os"
      },
      "source": [
        "name=soup3.find_all('td',class_='table-body__cell name')\n",
        "contry=soup3.find_all('td',class_='table-body__cell nationality-logo')\n",
        "rating=soup3.find_all('td',class_='table-body__cell u-text-right rating')\n"
      ],
      "execution_count": null,
      "outputs": []
    },
    {
      "cell_type": "code",
      "metadata": {
        "id": "mCTLNUC597Os"
      },
      "source": [
        "nine_bat=pd.DataFrame([scrap1(name,9,0),scrap1(contry,9,0),scrap1(rating,9,0)]).T"
      ],
      "execution_count": null,
      "outputs": []
    },
    {
      "cell_type": "code",
      "metadata": {
        "colab": {
          "base_uri": "https://localhost:8080/",
          "height": 328
        },
        "id": "oWgZ62QU97Os",
        "outputId": "5e72cc62-31d0-4961-feec-3a4d22b39b9e"
      },
      "source": [
        "nine_bat"
      ],
      "execution_count": null,
      "outputs": [
        {
          "output_type": "execute_result",
          "data": {
            "text/html": [
              "<div>\n",
              "<style scoped>\n",
              "    .dataframe tbody tr th:only-of-type {\n",
              "        vertical-align: middle;\n",
              "    }\n",
              "\n",
              "    .dataframe tbody tr th {\n",
              "        vertical-align: top;\n",
              "    }\n",
              "\n",
              "    .dataframe thead th {\n",
              "        text-align: right;\n",
              "    }\n",
              "</style>\n",
              "<table border=\"1\" class=\"dataframe\">\n",
              "  <thead>\n",
              "    <tr style=\"text-align: right;\">\n",
              "      <th></th>\n",
              "      <th>0</th>\n",
              "      <th>1</th>\n",
              "      <th>2</th>\n",
              "    </tr>\n",
              "  </thead>\n",
              "  <tbody>\n",
              "    <tr>\n",
              "      <th>0</th>\n",
              "      <td>Lizelle Lee</td>\n",
              "      <td>SA</td>\n",
              "      <td>758</td>\n",
              "    </tr>\n",
              "    <tr>\n",
              "      <th>1</th>\n",
              "      <td>Alyssa Healy</td>\n",
              "      <td>AUS</td>\n",
              "      <td>756</td>\n",
              "    </tr>\n",
              "    <tr>\n",
              "      <th>2</th>\n",
              "      <td>Stafanie Taylor</td>\n",
              "      <td>WI</td>\n",
              "      <td>746</td>\n",
              "    </tr>\n",
              "    <tr>\n",
              "      <th>3</th>\n",
              "      <td>Meg Lanning</td>\n",
              "      <td>AUS</td>\n",
              "      <td>723</td>\n",
              "    </tr>\n",
              "    <tr>\n",
              "      <th>4</th>\n",
              "      <td>Amy Satterthwaite</td>\n",
              "      <td>NZ</td>\n",
              "      <td>715</td>\n",
              "    </tr>\n",
              "    <tr>\n",
              "      <th>5</th>\n",
              "      <td>Smriti Mandhana</td>\n",
              "      <td>IND</td>\n",
              "      <td>710</td>\n",
              "    </tr>\n",
              "    <tr>\n",
              "      <th>6</th>\n",
              "      <td>Mithali Raj</td>\n",
              "      <td>IND</td>\n",
              "      <td>709</td>\n",
              "    </tr>\n",
              "    <tr>\n",
              "      <th>7</th>\n",
              "      <td>Natalie Sciver</td>\n",
              "      <td>ENG</td>\n",
              "      <td>685</td>\n",
              "    </tr>\n",
              "    <tr>\n",
              "      <th>8</th>\n",
              "      <td>Laura Wolvaardt</td>\n",
              "      <td>SA</td>\n",
              "      <td>683</td>\n",
              "    </tr>\n",
              "  </tbody>\n",
              "</table>\n",
              "</div>"
            ],
            "text/plain": [
              "                   0    1    2\n",
              "0        Lizelle Lee   SA  758\n",
              "1       Alyssa Healy  AUS  756\n",
              "2    Stafanie Taylor   WI  746\n",
              "3        Meg Lanning  AUS  723\n",
              "4  Amy Satterthwaite   NZ  715\n",
              "5    Smriti Mandhana  IND  710\n",
              "6        Mithali Raj  IND  709\n",
              "7     Natalie Sciver  ENG  685\n",
              "8    Laura Wolvaardt   SA  683"
            ]
          },
          "metadata": {
            "tags": []
          },
          "execution_count": 249
        }
      ]
    },
    {
      "cell_type": "code",
      "metadata": {
        "id": "tHwiOljJ97Ot"
      },
      "source": [
        "bat=pd.concat([top_bat,nine_bat],axis=0,ignore_index=True)"
      ],
      "execution_count": null,
      "outputs": []
    },
    {
      "cell_type": "code",
      "metadata": {
        "id": "qjYMphrI97Ot"
      },
      "source": [
        "bat.columns=['Name','con_code','per_Rating']"
      ],
      "execution_count": null,
      "outputs": []
    },
    {
      "cell_type": "code",
      "metadata": {
        "id": "yKH3b1RY97Ou"
      },
      "source": [
        "bat['country']=bat['con_code'].map({'IND':'India','NZ':'New Zealand','AUS':'Australia','ENG':'England','PAK':'Pakistan','WI':'West Indies','SA':'South Africa','PAK':'Pakistan'})"
      ],
      "execution_count": null,
      "outputs": []
    },
    {
      "cell_type": "code",
      "metadata": {
        "colab": {
          "base_uri": "https://localhost:8080/",
          "height": 359
        },
        "id": "aegJNoUV97Ou",
        "outputId": "47bb9d2e-cdde-4478-8254-50ac52b63b73"
      },
      "source": [
        "bat.merge(top_ten,how='inner').sort_values(by='per_Rating',ascending=False)"
      ],
      "execution_count": null,
      "outputs": [
        {
          "output_type": "execute_result",
          "data": {
            "text/html": [
              "<div>\n",
              "<style scoped>\n",
              "    .dataframe tbody tr th:only-of-type {\n",
              "        vertical-align: middle;\n",
              "    }\n",
              "\n",
              "    .dataframe tbody tr th {\n",
              "        vertical-align: top;\n",
              "    }\n",
              "\n",
              "    .dataframe thead th {\n",
              "        text-align: right;\n",
              "    }\n",
              "</style>\n",
              "<table border=\"1\" class=\"dataframe\">\n",
              "  <thead>\n",
              "    <tr style=\"text-align: right;\">\n",
              "      <th></th>\n",
              "      <th>Name</th>\n",
              "      <th>con_code</th>\n",
              "      <th>per_Rating</th>\n",
              "      <th>country</th>\n",
              "      <th>match</th>\n",
              "      <th>point</th>\n",
              "      <th>rating</th>\n",
              "    </tr>\n",
              "  </thead>\n",
              "  <tbody>\n",
              "    <tr>\n",
              "      <th>0</th>\n",
              "      <td>Tammy Beaumon</td>\n",
              "      <td>ENG</td>\n",
              "      <td>765</td>\n",
              "      <td>England</td>\n",
              "      <td>17</td>\n",
              "      <td>1,993</td>\n",
              "      <td>117</td>\n",
              "    </tr>\n",
              "    <tr>\n",
              "      <th>2</th>\n",
              "      <td>Lizelle Lee</td>\n",
              "      <td>SA</td>\n",
              "      <td>758</td>\n",
              "      <td>South Africa</td>\n",
              "      <td>24</td>\n",
              "      <td>2,828</td>\n",
              "      <td>118</td>\n",
              "    </tr>\n",
              "    <tr>\n",
              "      <th>4</th>\n",
              "      <td>Alyssa Healy</td>\n",
              "      <td>AUS</td>\n",
              "      <td>756</td>\n",
              "      <td>Australia</td>\n",
              "      <td>18</td>\n",
              "      <td>2,955</td>\n",
              "      <td>164               ...</td>\n",
              "    </tr>\n",
              "    <tr>\n",
              "      <th>6</th>\n",
              "      <td>Stafanie Taylor</td>\n",
              "      <td>WI</td>\n",
              "      <td>746</td>\n",
              "      <td>West Indies</td>\n",
              "      <td>12</td>\n",
              "      <td>1,025</td>\n",
              "      <td>85</td>\n",
              "    </tr>\n",
              "    <tr>\n",
              "      <th>5</th>\n",
              "      <td>Meg Lanning</td>\n",
              "      <td>AUS</td>\n",
              "      <td>723</td>\n",
              "      <td>Australia</td>\n",
              "      <td>18</td>\n",
              "      <td>2,955</td>\n",
              "      <td>164               ...</td>\n",
              "    </tr>\n",
              "    <tr>\n",
              "      <th>7</th>\n",
              "      <td>Amy Satterthwaite</td>\n",
              "      <td>NZ</td>\n",
              "      <td>715</td>\n",
              "      <td>New Zealand</td>\n",
              "      <td>21</td>\n",
              "      <td>1,947</td>\n",
              "      <td>93</td>\n",
              "    </tr>\n",
              "    <tr>\n",
              "      <th>8</th>\n",
              "      <td>Smriti Mandhana</td>\n",
              "      <td>IND</td>\n",
              "      <td>710</td>\n",
              "      <td>India</td>\n",
              "      <td>20</td>\n",
              "      <td>2,226</td>\n",
              "      <td>111</td>\n",
              "    </tr>\n",
              "    <tr>\n",
              "      <th>9</th>\n",
              "      <td>Mithali Raj</td>\n",
              "      <td>IND</td>\n",
              "      <td>709</td>\n",
              "      <td>India</td>\n",
              "      <td>20</td>\n",
              "      <td>2,226</td>\n",
              "      <td>111</td>\n",
              "    </tr>\n",
              "    <tr>\n",
              "      <th>1</th>\n",
              "      <td>Natalie Sciver</td>\n",
              "      <td>ENG</td>\n",
              "      <td>685</td>\n",
              "      <td>England</td>\n",
              "      <td>17</td>\n",
              "      <td>1,993</td>\n",
              "      <td>117</td>\n",
              "    </tr>\n",
              "    <tr>\n",
              "      <th>3</th>\n",
              "      <td>Laura Wolvaardt</td>\n",
              "      <td>SA</td>\n",
              "      <td>683</td>\n",
              "      <td>South Africa</td>\n",
              "      <td>24</td>\n",
              "      <td>2,828</td>\n",
              "      <td>118</td>\n",
              "    </tr>\n",
              "  </tbody>\n",
              "</table>\n",
              "</div>"
            ],
            "text/plain": [
              "                Name  ...                                             rating\n",
              "0      Tammy Beaumon  ...                                                117\n",
              "2        Lizelle Lee  ...                                                118\n",
              "4       Alyssa Healy  ...                              164               ...\n",
              "6    Stafanie Taylor  ...                                                 85\n",
              "5        Meg Lanning  ...                              164               ...\n",
              "7  Amy Satterthwaite  ...                                                 93\n",
              "8    Smriti Mandhana  ...                                                111\n",
              "9        Mithali Raj  ...                                                111\n",
              "1     Natalie Sciver  ...                                                117\n",
              "3    Laura Wolvaardt  ...                                                118\n",
              "\n",
              "[10 rows x 7 columns]"
            ]
          },
          "metadata": {
            "tags": []
          },
          "execution_count": 253
        }
      ]
    },
    {
      "cell_type": "markdown",
      "metadata": {
        "id": "eKDopOoe-p5m"
      },
      "source": [
        "## Top 10 women’s ODI all-rounder along with the records of their team and rating."
      ]
    },
    {
      "cell_type": "code",
      "metadata": {
        "id": "_qYyzjKr-kXc"
      },
      "source": [
        ""
      ],
      "execution_count": null,
      "outputs": []
    },
    {
      "cell_type": "code",
      "metadata": {
        "colab": {
          "base_uri": "https://localhost:8080/"
        },
        "id": "k8HJz2FF_mO_",
        "outputId": "c602ba6a-6ca4-4e37-cf8c-bc4c6f2f82a8"
      },
      "source": [
        "page=requests.get('https://www.icc-cricket.com/rankings/womens/player-rankings/odi/bowling')\n",
        "page"
      ],
      "execution_count": null,
      "outputs": [
        {
          "output_type": "execute_result",
          "data": {
            "text/plain": [
              "<Response [200]>"
            ]
          },
          "metadata": {
            "tags": []
          },
          "execution_count": 254
        }
      ]
    },
    {
      "cell_type": "code",
      "metadata": {
        "id": "VQC4IjKp_mPi"
      },
      "source": [
        "soup3=BeautifulSoup(page.content)"
      ],
      "execution_count": null,
      "outputs": []
    },
    {
      "cell_type": "code",
      "metadata": {
        "id": "XdCNP9pL_mPj"
      },
      "source": [
        "name=soup3.find_all('div',class_='rankings-block__banner--name-large')\n",
        "contry=soup3.find_all('div',class_='rankings-block__banner--nationality')\n",
        "rating=soup3.find_all('div',class_='rankings-block__banner--rating')\n"
      ],
      "execution_count": null,
      "outputs": []
    },
    {
      "cell_type": "code",
      "metadata": {
        "id": "RXtiwEFm_mPj"
      },
      "source": [
        "top_ball=pd.DataFrame([scrap(name,1,0,0,1),scrap(contry,1,0,0,20),scrap1(rating,1,0)]).T"
      ],
      "execution_count": null,
      "outputs": []
    },
    {
      "cell_type": "code",
      "metadata": {
        "id": "a-9AfaXE_mPk"
      },
      "source": [
        "name=soup3.find_all('td',class_='table-body__cell rankings-table__name name')\n",
        "contry=soup3.find_all('td',class_='table-body__cell nationality-logo rankings-table__team')\n",
        "rating=soup3.find_all('td',class_='table-body__cell rating')\n"
      ],
      "execution_count": null,
      "outputs": []
    },
    {
      "cell_type": "code",
      "metadata": {
        "id": "Mf3JsQyC_mPl"
      },
      "source": [
        "nine_ball=pd.DataFrame([scrap(name,9,0,0,1),scrap(contry,9,0,0,1),scrap1(rating,9,0)]).T"
      ],
      "execution_count": null,
      "outputs": []
    },
    {
      "cell_type": "code",
      "metadata": {
        "id": "-rVww8iB_mPl"
      },
      "source": [
        "ball=pd.concat([top_ball,nine_ball],axis=0,ignore_index=True)"
      ],
      "execution_count": null,
      "outputs": []
    },
    {
      "cell_type": "code",
      "metadata": {
        "id": "xNiMihMO_mPm"
      },
      "source": [
        "ball.columns=['Name','con_code','per_rating']"
      ],
      "execution_count": null,
      "outputs": []
    },
    {
      "cell_type": "code",
      "metadata": {
        "id": "mtKhyPwC_mPm"
      },
      "source": [
        "ball['country']=ball['con_code'].map({'IND':'India','NZ':'New Zealand','AUS':'Australia','ENG':'England','PAK':'Pakistan','WI':'West Indies','SA':'South Africa','PAK':'Pakistan','AFG':'Afghanistan','BAN':'Bangladesh'})"
      ],
      "execution_count": null,
      "outputs": []
    },
    {
      "cell_type": "code",
      "metadata": {
        "colab": {
          "base_uri": "https://localhost:8080/",
          "height": 359
        },
        "id": "v0enMkq5_mPn",
        "outputId": "5b6f25d7-e2ef-4212-bac6-bfabea69ba14"
      },
      "source": [
        "ball"
      ],
      "execution_count": null,
      "outputs": [
        {
          "output_type": "execute_result",
          "data": {
            "text/html": [
              "<div>\n",
              "<style scoped>\n",
              "    .dataframe tbody tr th:only-of-type {\n",
              "        vertical-align: middle;\n",
              "    }\n",
              "\n",
              "    .dataframe tbody tr th {\n",
              "        vertical-align: top;\n",
              "    }\n",
              "\n",
              "    .dataframe thead th {\n",
              "        text-align: right;\n",
              "    }\n",
              "</style>\n",
              "<table border=\"1\" class=\"dataframe\">\n",
              "  <thead>\n",
              "    <tr style=\"text-align: right;\">\n",
              "      <th></th>\n",
              "      <th>Name</th>\n",
              "      <th>con_code</th>\n",
              "      <th>per_rating</th>\n",
              "      <th>country</th>\n",
              "    </tr>\n",
              "  </thead>\n",
              "  <tbody>\n",
              "    <tr>\n",
              "      <th>0</th>\n",
              "      <td>Jess Jonasse</td>\n",
              "      <td>AUS</td>\n",
              "      <td>808</td>\n",
              "      <td>Australia</td>\n",
              "    </tr>\n",
              "    <tr>\n",
              "      <th>1</th>\n",
              "      <td>Megan Schutt</td>\n",
              "      <td>AUS</td>\n",
              "      <td>762</td>\n",
              "      <td>Australia</td>\n",
              "    </tr>\n",
              "    <tr>\n",
              "      <th>2</th>\n",
              "      <td>Marizanne Kapp</td>\n",
              "      <td>SA</td>\n",
              "      <td>747</td>\n",
              "      <td>South Africa</td>\n",
              "    </tr>\n",
              "    <tr>\n",
              "      <th>3</th>\n",
              "      <td>Shabnim Ismail</td>\n",
              "      <td>SA</td>\n",
              "      <td>717</td>\n",
              "      <td>South Africa</td>\n",
              "    </tr>\n",
              "    <tr>\n",
              "      <th>4</th>\n",
              "      <td>Jhulan Goswami</td>\n",
              "      <td>IND</td>\n",
              "      <td>681</td>\n",
              "      <td>India</td>\n",
              "    </tr>\n",
              "    <tr>\n",
              "      <th>5</th>\n",
              "      <td>Katherine Brunt</td>\n",
              "      <td>ENG</td>\n",
              "      <td>655</td>\n",
              "      <td>England</td>\n",
              "    </tr>\n",
              "    <tr>\n",
              "      <th>6</th>\n",
              "      <td>Poonam Yadav</td>\n",
              "      <td>IND</td>\n",
              "      <td>641</td>\n",
              "      <td>India</td>\n",
              "    </tr>\n",
              "    <tr>\n",
              "      <th>7</th>\n",
              "      <td>Ayabonga Khaka</td>\n",
              "      <td>SA</td>\n",
              "      <td>638</td>\n",
              "      <td>South Africa</td>\n",
              "    </tr>\n",
              "    <tr>\n",
              "      <th>8</th>\n",
              "      <td>Ellyse Perry</td>\n",
              "      <td>AUS</td>\n",
              "      <td>616</td>\n",
              "      <td>Australia</td>\n",
              "    </tr>\n",
              "    <tr>\n",
              "      <th>9</th>\n",
              "      <td>Shikha Pandey</td>\n",
              "      <td>IND</td>\n",
              "      <td>610</td>\n",
              "      <td>India</td>\n",
              "    </tr>\n",
              "  </tbody>\n",
              "</table>\n",
              "</div>"
            ],
            "text/plain": [
              "              Name con_code per_rating       country\n",
              "0     Jess Jonasse      AUS        808     Australia\n",
              "1     Megan Schutt      AUS        762     Australia\n",
              "2   Marizanne Kapp       SA        747  South Africa\n",
              "3   Shabnim Ismail       SA        717  South Africa\n",
              "4   Jhulan Goswami      IND        681         India\n",
              "5  Katherine Brunt      ENG        655       England\n",
              "6     Poonam Yadav      IND        641         India\n",
              "7   Ayabonga Khaka       SA        638  South Africa\n",
              "8     Ellyse Perry      AUS        616     Australia\n",
              "9    Shikha Pandey      IND        610         India"
            ]
          },
          "metadata": {
            "tags": []
          },
          "execution_count": 263
        }
      ]
    },
    {
      "cell_type": "code",
      "metadata": {
        "colab": {
          "base_uri": "https://localhost:8080/",
          "height": 359
        },
        "id": "ISbj2U9K_mPn",
        "outputId": "8f176cfb-f6b2-48e2-c254-320b9fad7642"
      },
      "source": [
        "ball.merge(top_ten,how='inner').sort_values(by='per_rating',ascending=False)"
      ],
      "execution_count": null,
      "outputs": [
        {
          "output_type": "execute_result",
          "data": {
            "text/html": [
              "<div>\n",
              "<style scoped>\n",
              "    .dataframe tbody tr th:only-of-type {\n",
              "        vertical-align: middle;\n",
              "    }\n",
              "\n",
              "    .dataframe tbody tr th {\n",
              "        vertical-align: top;\n",
              "    }\n",
              "\n",
              "    .dataframe thead th {\n",
              "        text-align: right;\n",
              "    }\n",
              "</style>\n",
              "<table border=\"1\" class=\"dataframe\">\n",
              "  <thead>\n",
              "    <tr style=\"text-align: right;\">\n",
              "      <th></th>\n",
              "      <th>Name</th>\n",
              "      <th>con_code</th>\n",
              "      <th>per_rating</th>\n",
              "      <th>country</th>\n",
              "      <th>match</th>\n",
              "      <th>point</th>\n",
              "      <th>rating</th>\n",
              "    </tr>\n",
              "  </thead>\n",
              "  <tbody>\n",
              "    <tr>\n",
              "      <th>0</th>\n",
              "      <td>Jess Jonasse</td>\n",
              "      <td>AUS</td>\n",
              "      <td>808</td>\n",
              "      <td>Australia</td>\n",
              "      <td>18</td>\n",
              "      <td>2,955</td>\n",
              "      <td>164               ...</td>\n",
              "    </tr>\n",
              "    <tr>\n",
              "      <th>1</th>\n",
              "      <td>Megan Schutt</td>\n",
              "      <td>AUS</td>\n",
              "      <td>762</td>\n",
              "      <td>Australia</td>\n",
              "      <td>18</td>\n",
              "      <td>2,955</td>\n",
              "      <td>164               ...</td>\n",
              "    </tr>\n",
              "    <tr>\n",
              "      <th>3</th>\n",
              "      <td>Marizanne Kapp</td>\n",
              "      <td>SA</td>\n",
              "      <td>747</td>\n",
              "      <td>South Africa</td>\n",
              "      <td>24</td>\n",
              "      <td>2,828</td>\n",
              "      <td>118</td>\n",
              "    </tr>\n",
              "    <tr>\n",
              "      <th>4</th>\n",
              "      <td>Shabnim Ismail</td>\n",
              "      <td>SA</td>\n",
              "      <td>717</td>\n",
              "      <td>South Africa</td>\n",
              "      <td>24</td>\n",
              "      <td>2,828</td>\n",
              "      <td>118</td>\n",
              "    </tr>\n",
              "    <tr>\n",
              "      <th>6</th>\n",
              "      <td>Jhulan Goswami</td>\n",
              "      <td>IND</td>\n",
              "      <td>681</td>\n",
              "      <td>India</td>\n",
              "      <td>20</td>\n",
              "      <td>2,226</td>\n",
              "      <td>111</td>\n",
              "    </tr>\n",
              "    <tr>\n",
              "      <th>9</th>\n",
              "      <td>Katherine Brunt</td>\n",
              "      <td>ENG</td>\n",
              "      <td>655</td>\n",
              "      <td>England</td>\n",
              "      <td>17</td>\n",
              "      <td>1,993</td>\n",
              "      <td>117</td>\n",
              "    </tr>\n",
              "    <tr>\n",
              "      <th>7</th>\n",
              "      <td>Poonam Yadav</td>\n",
              "      <td>IND</td>\n",
              "      <td>641</td>\n",
              "      <td>India</td>\n",
              "      <td>20</td>\n",
              "      <td>2,226</td>\n",
              "      <td>111</td>\n",
              "    </tr>\n",
              "    <tr>\n",
              "      <th>5</th>\n",
              "      <td>Ayabonga Khaka</td>\n",
              "      <td>SA</td>\n",
              "      <td>638</td>\n",
              "      <td>South Africa</td>\n",
              "      <td>24</td>\n",
              "      <td>2,828</td>\n",
              "      <td>118</td>\n",
              "    </tr>\n",
              "    <tr>\n",
              "      <th>2</th>\n",
              "      <td>Ellyse Perry</td>\n",
              "      <td>AUS</td>\n",
              "      <td>616</td>\n",
              "      <td>Australia</td>\n",
              "      <td>18</td>\n",
              "      <td>2,955</td>\n",
              "      <td>164               ...</td>\n",
              "    </tr>\n",
              "    <tr>\n",
              "      <th>8</th>\n",
              "      <td>Shikha Pandey</td>\n",
              "      <td>IND</td>\n",
              "      <td>610</td>\n",
              "      <td>India</td>\n",
              "      <td>20</td>\n",
              "      <td>2,226</td>\n",
              "      <td>111</td>\n",
              "    </tr>\n",
              "  </tbody>\n",
              "</table>\n",
              "</div>"
            ],
            "text/plain": [
              "              Name  ...                                             rating\n",
              "0     Jess Jonasse  ...                              164               ...\n",
              "1     Megan Schutt  ...                              164               ...\n",
              "3   Marizanne Kapp  ...                                                118\n",
              "4   Shabnim Ismail  ...                                                118\n",
              "6   Jhulan Goswami  ...                                                111\n",
              "9  Katherine Brunt  ...                                                117\n",
              "7     Poonam Yadav  ...                                                111\n",
              "5   Ayabonga Khaka  ...                                                118\n",
              "2     Ellyse Perry  ...                              164               ...\n",
              "8    Shikha Pandey  ...                                                111\n",
              "\n",
              "[10 rows x 7 columns]"
            ]
          },
          "metadata": {
            "tags": []
          },
          "execution_count": 264
        }
      ]
    },
    {
      "cell_type": "markdown",
      "metadata": {
        "id": "9dno0qxQLwNp"
      },
      "source": [
        "# Write a python program to scrape details of all the mobile phones under Rs. 20,000 listed on Amazon.in. The scraped data should include Product Name, Price, Image URL and Average Rating"
      ]
    },
    {
      "cell_type": "code",
      "metadata": {
        "id": "z61wUw_0I8XG"
      },
      "source": [
        "def scrap2(team):\n",
        "  ten_team=[]\n",
        "  for i in team:\n",
        "    #ten_team.append(i.text[len(str())+a:-b].replace('\\n',''))\n",
        "    ten_team.append(i.text.replace('\\n',''))\n",
        "  \n",
        "  return(ten_team)"
      ],
      "execution_count": null,
      "outputs": []
    },
    {
      "cell_type": "code",
      "metadata": {
        "colab": {
          "base_uri": "https://localhost:8080/"
        },
        "id": "jwQFHNVyNblv",
        "outputId": "0a30a063-fe61-40ef-e50e-b03577273018"
      },
      "source": [
        "page=requests.get('https://www.amazon.in/s?bbn=1389401031&rh=n%3A1389401031%2Cp_36%3A1318506031&dc&qid=1620098046&rnid=1318502031&ref=lp_1389401031_nr_p_36_3')\n",
        "page"
      ],
      "execution_count": null,
      "outputs": [
        {
          "output_type": "execute_result",
          "data": {
            "text/plain": [
              "<Response [200]>"
            ]
          },
          "metadata": {
            "tags": []
          },
          "execution_count": 227
        }
      ]
    },
    {
      "cell_type": "code",
      "metadata": {
        "colab": {
          "base_uri": "https://localhost:8080/"
        },
        "id": "11hfKGsxZGNG",
        "outputId": "0f49a7b8-61ac-4d1c-cd79-f4e7d9de2d64"
      },
      "source": [
        "page2=requests.get('https://www.amazon.in/s?i=electronics&bbn=1389401031&rh=n%3A1389401031%2Cp_36%3A300000-2000000&dc&page=2&qid=1620098957&rnid=1318502031&ref=sr_pg_2')\n",
        "page2"
      ],
      "execution_count": null,
      "outputs": [
        {
          "output_type": "execute_result",
          "data": {
            "text/plain": [
              "<Response [200]>"
            ]
          },
          "metadata": {
            "tags": []
          },
          "execution_count": 232
        }
      ]
    },
    {
      "cell_type": "code",
      "metadata": {
        "colab": {
          "base_uri": "https://localhost:8080/"
        },
        "id": "BpDTjGQYagej",
        "outputId": "db3c3c3d-9e9e-4442-ab41-7ae1e22ecf6e"
      },
      "source": [
        "page3=requests.get('https://www.amazon.in/s?i=electronics&bbn=1389401031&rh=n%3A1389401031%2Cp_36%3A300000-2000000&dc&page=3&qid=1620098683&rnid=1318502031&ref=sr_pg_3')\n",
        "page3"
      ],
      "execution_count": null,
      "outputs": [
        {
          "output_type": "execute_result",
          "data": {
            "text/plain": [
              "<Response [200]>"
            ]
          },
          "metadata": {
            "tags": []
          },
          "execution_count": 229
        }
      ]
    },
    {
      "cell_type": "code",
      "metadata": {
        "id": "l5fUG1pQNbl7"
      },
      "source": [
        "soup3=BeautifulSoup(page.content)"
      ],
      "execution_count": null,
      "outputs": []
    },
    {
      "cell_type": "code",
      "metadata": {
        "colab": {
          "base_uri": "https://localhost:8080/",
          "height": 419
        },
        "id": "x-GHYwrf3nTh",
        "outputId": "e1dd411d-8c05-43da-e2ce-dcccd4a9826d"
      },
      "source": [
        "mobile1=pd.DataFrame(columns=['name','price','rating','img_url'])\n",
        "def pa(page):\n",
        "  soup3=BeautifulSoup(page.content)\n",
        "  name=soup3.find_all('span',class_='a-size-base-plus a-color-base a-text-normal')\n",
        "  price=soup3.find_all('span',class_='a-price-whole')\n",
        "  img_url=soup3.find_all('img',class_='s-image')\n",
        "  avg_rat=soup3.find_all('span',class_='a-icon-alt')\n",
        "  img=[]\n",
        "  for i in img_url:\n",
        "    img.append(i.get('src'))\n",
        "  mobile=pd.DataFrame([scrap2(name),scrap2(price),scrap(avg_rat,50,0,0,-3)]).T\n",
        "  mobile=mobile.loc[mobile[2].str.contains('S')==False]\n",
        "  mobile=pd.concat([mobile,pd.DataFrame(img)],axis=1)\n",
        "  mobile.columns=['name','price','rating','img_url']\n",
        "  mob_name=[]\n",
        "  for i in mobile['name']:\n",
        "    sep = '('\n",
        "    stripped = i.split(sep, 1)[0]\n",
        "    mob_name.append(stripped)\n",
        "  mobile['name']=mob_name\n",
        "  return(mobile)\n",
        "\n",
        "\n",
        "\n",
        "pd.concat([pa(page),pa(page2),pa(page3)],axis=0,ignore_index=True)"
      ],
      "execution_count": null,
      "outputs": [
        {
          "output_type": "execute_result",
          "data": {
            "text/html": [
              "<div>\n",
              "<style scoped>\n",
              "    .dataframe tbody tr th:only-of-type {\n",
              "        vertical-align: middle;\n",
              "    }\n",
              "\n",
              "    .dataframe tbody tr th {\n",
              "        vertical-align: top;\n",
              "    }\n",
              "\n",
              "    .dataframe thead th {\n",
              "        text-align: right;\n",
              "    }\n",
              "</style>\n",
              "<table border=\"1\" class=\"dataframe\">\n",
              "  <thead>\n",
              "    <tr style=\"text-align: right;\">\n",
              "      <th></th>\n",
              "      <th>name</th>\n",
              "      <th>price</th>\n",
              "      <th>rating</th>\n",
              "      <th>img_url</th>\n",
              "    </tr>\n",
              "  </thead>\n",
              "  <tbody>\n",
              "    <tr>\n",
              "      <th>0</th>\n",
              "      <td>Samsung Galaxy M31</td>\n",
              "      <td>13,999</td>\n",
              "      <td>4.3</td>\n",
              "      <td>https://m.media-amazon.com/images/I/71-Su4Wr0H...</td>\n",
              "    </tr>\n",
              "    <tr>\n",
              "      <th>1</th>\n",
              "      <td>Samsung Galaxy M31</td>\n",
              "      <td>13,999</td>\n",
              "      <td>4.3</td>\n",
              "      <td>https://m.media-amazon.com/images/I/71OxJeyywS...</td>\n",
              "    </tr>\n",
              "    <tr>\n",
              "      <th>2</th>\n",
              "      <td>Redmi Note 10</td>\n",
              "      <td>12,499</td>\n",
              "      <td>4.1</td>\n",
              "      <td>https://m.media-amazon.com/images/I/71IqJQM2st...</td>\n",
              "    </tr>\n",
              "    <tr>\n",
              "      <th>3</th>\n",
              "      <td>Redmi Note 10</td>\n",
              "      <td>12,499</td>\n",
              "      <td>4.1</td>\n",
              "      <td>https://m.media-amazon.com/images/I/71Kmfs0T0B...</td>\n",
              "    </tr>\n",
              "    <tr>\n",
              "      <th>4</th>\n",
              "      <td>Redmi Note 10</td>\n",
              "      <td>14,499</td>\n",
              "      <td>4.1</td>\n",
              "      <td>https://m.media-amazon.com/images/I/71Kmfs0T0B...</td>\n",
              "    </tr>\n",
              "    <tr>\n",
              "      <th>...</th>\n",
              "      <td>...</td>\n",
              "      <td>...</td>\n",
              "      <td>...</td>\n",
              "      <td>...</td>\n",
              "    </tr>\n",
              "    <tr>\n",
              "      <th>67</th>\n",
              "      <td>Fire-Boltt Beast SPO2 1.69\" Full Touch Large H...</td>\n",
              "      <td>3,799</td>\n",
              "      <td>4.7</td>\n",
              "      <td>https://m.media-amazon.com/images/I/61MKnhvNUg...</td>\n",
              "    </tr>\n",
              "    <tr>\n",
              "      <th>68</th>\n",
              "      <td>Oppo A52</td>\n",
              "      <td>13,990</td>\n",
              "      <td>4.2</td>\n",
              "      <td>https://m.media-amazon.com/images/I/71FPmXaDfb...</td>\n",
              "    </tr>\n",
              "    <tr>\n",
              "      <th>69</th>\n",
              "      <td>Redmi 9A</td>\n",
              "      <td>7,499</td>\n",
              "      <td>4.2</td>\n",
              "      <td>https://m.media-amazon.com/images/I/71sxlhYhKW...</td>\n",
              "    </tr>\n",
              "    <tr>\n",
              "      <th>70</th>\n",
              "      <td>OPPO A31</td>\n",
              "      <td>9,990</td>\n",
              "      <td>4.2</td>\n",
              "      <td>https://m.media-amazon.com/images/I/71AHtKejSl...</td>\n",
              "    </tr>\n",
              "    <tr>\n",
              "      <th>71</th>\n",
              "      <td>Nokia 5310 Dual SIM Feature Phone with MP3 Pla...</td>\n",
              "      <td>3,399</td>\n",
              "      <td>4.0</td>\n",
              "      <td>https://m.media-amazon.com/images/I/4192aJrFBi...</td>\n",
              "    </tr>\n",
              "  </tbody>\n",
              "</table>\n",
              "<p>72 rows × 4 columns</p>\n",
              "</div>"
            ],
            "text/plain": [
              "                                                 name  ...                                            img_url\n",
              "0                                 Samsung Galaxy M31   ...  https://m.media-amazon.com/images/I/71-Su4Wr0H...\n",
              "1                                 Samsung Galaxy M31   ...  https://m.media-amazon.com/images/I/71OxJeyywS...\n",
              "2                                      Redmi Note 10   ...  https://m.media-amazon.com/images/I/71IqJQM2st...\n",
              "3                                      Redmi Note 10   ...  https://m.media-amazon.com/images/I/71Kmfs0T0B...\n",
              "4                                      Redmi Note 10   ...  https://m.media-amazon.com/images/I/71Kmfs0T0B...\n",
              "..                                                ...  ...                                                ...\n",
              "67  Fire-Boltt Beast SPO2 1.69\" Full Touch Large H...  ...  https://m.media-amazon.com/images/I/61MKnhvNUg...\n",
              "68                                          Oppo A52   ...  https://m.media-amazon.com/images/I/71FPmXaDfb...\n",
              "69                                          Redmi 9A   ...  https://m.media-amazon.com/images/I/71sxlhYhKW...\n",
              "70                                          OPPO A31   ...  https://m.media-amazon.com/images/I/71AHtKejSl...\n",
              "71  Nokia 5310 Dual SIM Feature Phone with MP3 Pla...  ...  https://m.media-amazon.com/images/I/4192aJrFBi...\n",
              "\n",
              "[72 rows x 4 columns]"
            ]
          },
          "metadata": {
            "tags": []
          },
          "execution_count": 234
        }
      ]
    },
    {
      "cell_type": "markdown",
      "metadata": {
        "id": "26-dJyhJpOf3"
      },
      "source": [
        "# Write a python program to extract information about the local weather from the National Weather Service website of USA, https://www.weather.gov/ for the city, San Francisco. You need to extract data about 7 day extended forecast display for the city. The data should include period, short description, temperature and description."
      ]
    },
    {
      "cell_type": "code",
      "metadata": {
        "colab": {
          "base_uri": "https://localhost:8080/"
        },
        "id": "sh4gFH84rYvP",
        "outputId": "ef3f4589-5d37-475f-961b-1e703942731e"
      },
      "source": [
        "page=requests.get('https://forecast.weather.gov/MapClick.php?lat=37.7739&lon=-122.4312#.YJKaL7UzbIU')\n",
        "page"
      ],
      "execution_count": 29,
      "outputs": [
        {
          "output_type": "execute_result",
          "data": {
            "text/plain": [
              "<Response [200]>"
            ]
          },
          "metadata": {
            "tags": []
          },
          "execution_count": 29
        }
      ]
    },
    {
      "cell_type": "code",
      "metadata": {
        "id": "xdMZ6BI0rYtC"
      },
      "source": [
        "def scrap2(team):\n",
        "  ten_team=[]\n",
        "  for i in team:\n",
        "    #ten_team.append(i.text[len(str())+a:-b].replace('\\n',''))\n",
        "    ten_team.append(i.text.replace('\\n',''))\n",
        "  \n",
        "  return(ten_team)"
      ],
      "execution_count": 30,
      "outputs": []
    },
    {
      "cell_type": "code",
      "metadata": {
        "id": "IRiEg8BerYob"
      },
      "source": [
        "soup3=BeautifulSoup(page.content)\n",
        "dis=soup3.find_all('div',class_='col-sm-10 forecast-text')\n",
        "label=soup3.find_all('div',class_='col-sm-2 forecast-label')\n"
      ],
      "execution_count": 31,
      "outputs": []
    },
    {
      "cell_type": "code",
      "metadata": {
        "id": "mUqHPtSVxe_F"
      },
      "source": [
        "label=scrap2(label)"
      ],
      "execution_count": 32,
      "outputs": []
    },
    {
      "cell_type": "code",
      "metadata": {
        "id": "rpiKjIIit40T"
      },
      "source": [
        "dis=scrap2(dis)"
      ],
      "execution_count": 33,
      "outputs": []
    },
    {
      "cell_type": "code",
      "metadata": {
        "id": "pJrpExN0t6Ez"
      },
      "source": [
        "temp=[]\n",
        "short_dis=[]\n",
        "for i in dis:\n",
        "    short_dis.append(i.split(',', 1)[0])\n",
        "    temp.append(i.split('.', 1)[0][-2:])\n",
        "\n"
      ],
      "execution_count": 34,
      "outputs": []
    },
    {
      "cell_type": "code",
      "metadata": {
        "colab": {
          "base_uri": "https://localhost:8080/",
          "height": 483
        },
        "id": "eSnDuJNAvJ3m",
        "outputId": "c7bc11a8-5ab4-4ad9-add8-256e6e2ef3db"
      },
      "source": [
        "pd.DataFrame([label,short_dis,temp,dis]).T"
      ],
      "execution_count": 35,
      "outputs": [
        {
          "output_type": "execute_result",
          "data": {
            "text/html": [
              "<div>\n",
              "<style scoped>\n",
              "    .dataframe tbody tr th:only-of-type {\n",
              "        vertical-align: middle;\n",
              "    }\n",
              "\n",
              "    .dataframe tbody tr th {\n",
              "        vertical-align: top;\n",
              "    }\n",
              "\n",
              "    .dataframe thead th {\n",
              "        text-align: right;\n",
              "    }\n",
              "</style>\n",
              "<table border=\"1\" class=\"dataframe\">\n",
              "  <thead>\n",
              "    <tr style=\"text-align: right;\">\n",
              "      <th></th>\n",
              "      <th>0</th>\n",
              "      <th>1</th>\n",
              "      <th>2</th>\n",
              "      <th>3</th>\n",
              "    </tr>\n",
              "  </thead>\n",
              "  <tbody>\n",
              "    <tr>\n",
              "      <th>0</th>\n",
              "      <td>Overnight</td>\n",
              "      <td>Clear</td>\n",
              "      <td>51</td>\n",
              "      <td>Clear, with a low around 51. West northwest wi...</td>\n",
              "    </tr>\n",
              "    <tr>\n",
              "      <th>1</th>\n",
              "      <td>Saturday</td>\n",
              "      <td>Sunny</td>\n",
              "      <td>71</td>\n",
              "      <td>Sunny, with a high near 71. Northwest wind 7 t...</td>\n",
              "    </tr>\n",
              "    <tr>\n",
              "      <th>2</th>\n",
              "      <td>Saturday Night</td>\n",
              "      <td>Mostly clear</td>\n",
              "      <td>52</td>\n",
              "      <td>Mostly clear, with a low around 52. West wind ...</td>\n",
              "    </tr>\n",
              "    <tr>\n",
              "      <th>3</th>\n",
              "      <td>Sunday</td>\n",
              "      <td>Sunny</td>\n",
              "      <td>70</td>\n",
              "      <td>Sunny, with a high near 70. West wind 8 to 16 ...</td>\n",
              "    </tr>\n",
              "    <tr>\n",
              "      <th>4</th>\n",
              "      <td>Sunday Night</td>\n",
              "      <td>Clear</td>\n",
              "      <td>52</td>\n",
              "      <td>Clear, with a low around 52. West northwest wi...</td>\n",
              "    </tr>\n",
              "    <tr>\n",
              "      <th>5</th>\n",
              "      <td>Monday</td>\n",
              "      <td>Sunny</td>\n",
              "      <td>72</td>\n",
              "      <td>Sunny, with a high near 72.</td>\n",
              "    </tr>\n",
              "    <tr>\n",
              "      <th>6</th>\n",
              "      <td>Monday Night</td>\n",
              "      <td>Mostly clear</td>\n",
              "      <td>52</td>\n",
              "      <td>Mostly clear, with a low around 52.</td>\n",
              "    </tr>\n",
              "    <tr>\n",
              "      <th>7</th>\n",
              "      <td>Tuesday</td>\n",
              "      <td>Sunny</td>\n",
              "      <td>73</td>\n",
              "      <td>Sunny, with a high near 73.</td>\n",
              "    </tr>\n",
              "    <tr>\n",
              "      <th>8</th>\n",
              "      <td>Tuesday Night</td>\n",
              "      <td>Mostly clear</td>\n",
              "      <td>50</td>\n",
              "      <td>Mostly clear, with a low around 50.</td>\n",
              "    </tr>\n",
              "    <tr>\n",
              "      <th>9</th>\n",
              "      <td>Wednesday</td>\n",
              "      <td>Sunny</td>\n",
              "      <td>68</td>\n",
              "      <td>Sunny, with a high near 68.</td>\n",
              "    </tr>\n",
              "    <tr>\n",
              "      <th>10</th>\n",
              "      <td>Wednesday Night</td>\n",
              "      <td>Partly cloudy</td>\n",
              "      <td>51</td>\n",
              "      <td>Partly cloudy, with a low around 51.</td>\n",
              "    </tr>\n",
              "    <tr>\n",
              "      <th>11</th>\n",
              "      <td>Thursday</td>\n",
              "      <td>Mostly sunny</td>\n",
              "      <td>65</td>\n",
              "      <td>Mostly sunny, with a high near 65.</td>\n",
              "    </tr>\n",
              "    <tr>\n",
              "      <th>12</th>\n",
              "      <td>Thursday Night</td>\n",
              "      <td>Mostly clear</td>\n",
              "      <td>50</td>\n",
              "      <td>Mostly clear, with a low around 50.</td>\n",
              "    </tr>\n",
              "    <tr>\n",
              "      <th>13</th>\n",
              "      <td>Friday</td>\n",
              "      <td>Sunny</td>\n",
              "      <td>65</td>\n",
              "      <td>Sunny, with a high near 65.</td>\n",
              "    </tr>\n",
              "  </tbody>\n",
              "</table>\n",
              "</div>"
            ],
            "text/plain": [
              "                  0  ...                                                  3\n",
              "0         Overnight  ...  Clear, with a low around 51. West northwest wi...\n",
              "1          Saturday  ...  Sunny, with a high near 71. Northwest wind 7 t...\n",
              "2    Saturday Night  ...  Mostly clear, with a low around 52. West wind ...\n",
              "3            Sunday  ...  Sunny, with a high near 70. West wind 8 to 16 ...\n",
              "4      Sunday Night  ...  Clear, with a low around 52. West northwest wi...\n",
              "5            Monday  ...                        Sunny, with a high near 72.\n",
              "6      Monday Night  ...                Mostly clear, with a low around 52.\n",
              "7           Tuesday  ...                        Sunny, with a high near 73.\n",
              "8     Tuesday Night  ...                Mostly clear, with a low around 50.\n",
              "9         Wednesday  ...                        Sunny, with a high near 68.\n",
              "10  Wednesday Night  ...               Partly cloudy, with a low around 51.\n",
              "11         Thursday  ...                 Mostly sunny, with a high near 65.\n",
              "12   Thursday Night  ...                Mostly clear, with a low around 50.\n",
              "13           Friday  ...                        Sunny, with a high near 65.\n",
              "\n",
              "[14 rows x 4 columns]"
            ]
          },
          "metadata": {
            "tags": []
          },
          "execution_count": 35
        }
      ]
    },
    {
      "cell_type": "code",
      "metadata": {
        "id": "b1YiFc9avLu1"
      },
      "source": [
        ""
      ],
      "execution_count": null,
      "outputs": []
    }
  ]
}